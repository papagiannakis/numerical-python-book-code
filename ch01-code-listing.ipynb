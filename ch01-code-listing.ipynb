{
 "cells": [
  {
   "cell_type": "markdown",
   "metadata": {},
   "source": [
    "# Chapter 1: Computing with Python"
   ]
  },
  {
   "cell_type": "markdown",
   "metadata": {},
   "source": [
    "Robert Johansson\n",
    "\n",
    "Source code listings for [Numerical Python - Scientific Computing and Data Science Applications with Numpy, SciPy and Matplotlib](https://www.apress.com/us/book/9781484242452) (ISBN 978-1-484242-45-2)."
   ]
  },
  {
   "cell_type": "markdown",
   "metadata": {},
   "source": [
    "## Interpreter"
   ]
  },
  {
   "cell_type": "code",
   "execution_count": 1,
   "metadata": {},
   "outputs": [
    {
     "output_type": "stream",
     "name": "stdout",
     "text": "Overwriting hello.py\n"
    }
   ],
   "source": [
    "%%writefile hello.py\n",
    "print(\"Hello from Python!\")"
   ]
  },
  {
   "cell_type": "code",
   "execution_count": 2,
   "metadata": {},
   "outputs": [
    {
     "output_type": "stream",
     "name": "stdout",
     "text": "Hello from Python!\n"
    }
   ],
   "source": [
    "!python hello.py"
   ]
  },
  {
   "cell_type": "code",
   "execution_count": 3,
   "metadata": {},
   "outputs": [
    {
     "output_type": "stream",
     "name": "stdout",
     "text": "Python 3.7.6\n"
    }
   ],
   "source": [
    "!python --version"
   ]
  },
  {
   "cell_type": "markdown",
   "metadata": {},
   "source": [
    "## Input and output caching"
   ]
  },
  {
   "cell_type": "code",
   "execution_count": 4,
   "metadata": {},
   "outputs": [
    {
     "output_type": "execute_result",
     "data": {
      "text/plain": "9"
     },
     "metadata": {},
     "execution_count": 4
    }
   ],
   "source": [
    "3 * 3"
   ]
  },
  {
   "cell_type": "code",
   "execution_count": 5,
   "metadata": {},
   "outputs": [
    {
     "output_type": "execute_result",
     "data": {
      "text/plain": "'get_ipython().run_cell_magic(\\'writefile\\', \\'hello.py\\', \\'print(\"Hello from Python!\")\\\\n\\')'"
     },
     "metadata": {},
     "execution_count": 5
    }
   ],
   "source": [
    "In[1]"
   ]
  },
  {
   "cell_type": "code",
   "execution_count": 6,
   "metadata": {},
   "outputs": [
    {
     "output_type": "error",
     "ename": "KeyError",
     "evalue": "1",
     "traceback": [
      "\u001b[0;31m---------------------------------------------------------------------------\u001b[0m",
      "\u001b[0;31mKeyError\u001b[0m                                  Traceback (most recent call last)",
      "\u001b[0;32m<ipython-input-6-300353f2f9e5>\u001b[0m in \u001b[0;36m<module>\u001b[0;34m\u001b[0m\n\u001b[0;32m----> 1\u001b[0;31m \u001b[0mOut\u001b[0m\u001b[0;34m[\u001b[0m\u001b[0;36m1\u001b[0m\u001b[0;34m]\u001b[0m\u001b[0;34m\u001b[0m\u001b[0;34m\u001b[0m\u001b[0m\n\u001b[0m",
      "\u001b[0;31mKeyError\u001b[0m: 1"
     ]
    }
   ],
   "source": [
    "Out[1]"
   ]
  },
  {
   "cell_type": "code",
   "execution_count": 7,
   "metadata": {},
   "outputs": [
    {
     "output_type": "execute_result",
     "data": {
      "text/plain": "['',\n 'get_ipython().run_cell_magic(\\'writefile\\', \\'hello.py\\', \\'print(\"Hello from Python!\")\\\\n\\')',\n \"get_ipython().system('python hello.py')\",\n \"get_ipython().system('python --version')\",\n '3 * 3',\n 'In[1]',\n 'Out[1]',\n 'In']"
     },
     "metadata": {},
     "execution_count": 7
    }
   ],
   "source": [
    "In"
   ]
  },
  {
   "cell_type": "code",
   "execution_count": 8,
   "metadata": {},
   "outputs": [
    {
     "output_type": "execute_result",
     "data": {
      "text/plain": "{4: 9,\n 5: 'get_ipython().run_cell_magic(\\'writefile\\', \\'hello.py\\', \\'print(\"Hello from Python!\")\\\\n\\')',\n 7: ['',\n  'get_ipython().run_cell_magic(\\'writefile\\', \\'hello.py\\', \\'print(\"Hello from Python!\")\\\\n\\')',\n  \"get_ipython().system('python hello.py')\",\n  \"get_ipython().system('python --version')\",\n  '3 * 3',\n  'In[1]',\n  'Out[1]',\n  'In',\n  'Out']}"
     },
     "metadata": {},
     "execution_count": 8
    }
   ],
   "source": [
    "Out"
   ]
  },
  {
   "cell_type": "code",
   "execution_count": 9,
   "metadata": {},
   "outputs": [
    {
     "output_type": "execute_result",
     "data": {
      "text/plain": "3"
     },
     "metadata": {},
     "execution_count": 9
    }
   ],
   "source": [
    "1+2"
   ]
  },
  {
   "cell_type": "code",
   "execution_count": 10,
   "metadata": {},
   "outputs": [],
   "source": [
    "1+2;"
   ]
  },
  {
   "cell_type": "code",
   "execution_count": 11,
   "metadata": {},
   "outputs": [],
   "source": [
    "x = 1"
   ]
  },
  {
   "cell_type": "code",
   "execution_count": 12,
   "metadata": {},
   "outputs": [
    {
     "output_type": "execute_result",
     "data": {
      "text/plain": "2"
     },
     "metadata": {},
     "execution_count": 12
    }
   ],
   "source": [
    "x = 2; x"
   ]
  },
  {
   "cell_type": "markdown",
   "metadata": {},
   "source": [
    "## Documentation"
   ]
  },
  {
   "cell_type": "code",
   "execution_count": 13,
   "metadata": {},
   "outputs": [],
   "source": [
    "import os"
   ]
  },
  {
   "cell_type": "code",
   "execution_count": 14,
   "metadata": {},
   "outputs": [],
   "source": [
    "# try os.w<TAB>"
   ]
  },
  {
   "cell_type": "code",
   "execution_count": 15,
   "metadata": {},
   "outputs": [],
   "source": [
    "import math"
   ]
  },
  {
   "cell_type": "code",
   "execution_count": 16,
   "metadata": {},
   "outputs": [
    {
     "output_type": "stream",
     "text": "\u001b[0;31mSignature:\u001b[0m \u001b[0mmath\u001b[0m\u001b[0;34m.\u001b[0m\u001b[0mcos\u001b[0m\u001b[0;34m(\u001b[0m\u001b[0mx\u001b[0m\u001b[0;34m,\u001b[0m \u001b[0;34m/\u001b[0m\u001b[0;34m)\u001b[0m\u001b[0;34m\u001b[0m\u001b[0;34m\u001b[0m\u001b[0m\n\u001b[0;31mDocstring:\u001b[0m Return the cosine of x (measured in radians).\n\u001b[0;31mType:\u001b[0m      builtin_function_or_method\n",
     "metadata": {},
     "execution_count": 16
    }
   ],
   "source": [
    "math.cos?"
   ]
  },
  {
   "cell_type": "markdown",
   "metadata": {},
   "source": [
    "## Interaction with System Shell"
   ]
  },
  {
   "cell_type": "code",
   "execution_count": 17,
   "metadata": {},
   "outputs": [],
   "source": [
    "!touch file1.py file2.py file3.py"
   ]
  },
  {
   "cell_type": "code",
   "execution_count": 18,
   "metadata": {},
   "outputs": [
    {
     "output_type": "stream",
     "name": "stdout",
     "text": "file1.py file2.py file3.py\n"
    }
   ],
   "source": [
    "!ls file*"
   ]
  },
  {
   "cell_type": "code",
   "execution_count": 19,
   "metadata": {},
   "outputs": [],
   "source": [
    "files = !ls file*"
   ]
  },
  {
   "cell_type": "code",
   "execution_count": 20,
   "metadata": {},
   "outputs": [
    {
     "output_type": "execute_result",
     "data": {
      "text/plain": "3"
     },
     "metadata": {},
     "execution_count": 20
    }
   ],
   "source": [
    "len(files)"
   ]
  },
  {
   "cell_type": "code",
   "execution_count": 21,
   "metadata": {},
   "outputs": [
    {
     "output_type": "execute_result",
     "data": {
      "text/plain": "['file1.py', 'file2.py', 'file3.py']"
     },
     "metadata": {},
     "execution_count": 21
    }
   ],
   "source": [
    "files"
   ]
  },
  {
   "cell_type": "code",
   "execution_count": 22,
   "metadata": {},
   "outputs": [],
   "source": [
    "file = \"file1.py\""
   ]
  },
  {
   "cell_type": "code",
   "execution_count": 23,
   "metadata": {},
   "outputs": [
    {
     "output_type": "stream",
     "name": "stdout",
     "text": "-rw-r--r--  1 Giwrgakis  staff  0 Apr  5 19:49 file1.py\n"
    }
   ],
   "source": [
    "!ls -l $file"
   ]
  },
  {
   "cell_type": "markdown",
   "metadata": {},
   "source": [
    "## Running scripts from the IPython console"
   ]
  },
  {
   "cell_type": "code",
   "execution_count": 24,
   "metadata": {},
   "outputs": [
    {
     "output_type": "stream",
     "name": "stdout",
     "text": "Overwriting fib.py\n"
    }
   ],
   "source": [
    "%%writefile fib.py\n",
    "\n",
    "def fib(N): \n",
    "    \"\"\" \n",
    "    Return a list of the first N Fibonacci numbers.\n",
    "    \"\"\" \n",
    "    f0, f1 = 0, 1\n",
    "    f = [1] * N\n",
    "    for n in range(1, N):\n",
    "        f[n] = f0 + f1\n",
    "        f0, f1 = f1, f[n]\n",
    "\n",
    "    return f\n",
    "\n",
    "print(fib(10))"
   ]
  },
  {
   "cell_type": "code",
   "execution_count": 25,
   "metadata": {},
   "outputs": [
    {
     "output_type": "stream",
     "name": "stdout",
     "text": "[1, 1, 2, 3, 5, 8, 13, 21, 34, 55]\n"
    }
   ],
   "source": [
    "!python fib.py"
   ]
  },
  {
   "cell_type": "code",
   "execution_count": 26,
   "metadata": {},
   "outputs": [
    {
     "output_type": "stream",
     "name": "stdout",
     "text": "[1, 1, 2, 3, 5, 8, 13, 21, 34, 55]\n"
    }
   ],
   "source": [
    "%run fib.py"
   ]
  },
  {
   "cell_type": "code",
   "execution_count": 27,
   "metadata": {},
   "outputs": [
    {
     "output_type": "execute_result",
     "data": {
      "text/plain": "[1, 1, 2, 3, 5, 8]"
     },
     "metadata": {},
     "execution_count": 27
    }
   ],
   "source": [
    "fib(6)"
   ]
  },
  {
   "cell_type": "markdown",
   "metadata": {},
   "source": [
    "## Debugger"
   ]
  },
  {
   "cell_type": "code",
   "execution_count": 28,
   "metadata": {},
   "outputs": [
    {
     "output_type": "error",
     "ename": "TypeError",
     "evalue": "can't multiply sequence by non-int of type 'float'",
     "traceback": [
      "\u001b[0;31m---------------------------------------------------------------------------\u001b[0m",
      "\u001b[0;31mTypeError\u001b[0m                                 Traceback (most recent call last)",
      "\u001b[0;32m<ipython-input-28-da4664af34ee>\u001b[0m in \u001b[0;36m<module>\u001b[0;34m\u001b[0m\n\u001b[0;32m----> 1\u001b[0;31m \u001b[0mfib\u001b[0m\u001b[0;34m(\u001b[0m\u001b[0;36m1.0\u001b[0m\u001b[0;34m)\u001b[0m\u001b[0;34m\u001b[0m\u001b[0;34m\u001b[0m\u001b[0m\n\u001b[0m",
      "\u001b[0;32m~/MyProjects/Python/numerical-python-book-code/fib.py\u001b[0m in \u001b[0;36mfib\u001b[0;34m(N)\u001b[0m\n\u001b[1;32m      5\u001b[0m     \"\"\" \n\u001b[1;32m      6\u001b[0m     \u001b[0mf0\u001b[0m\u001b[0;34m,\u001b[0m \u001b[0mf1\u001b[0m \u001b[0;34m=\u001b[0m \u001b[0;36m0\u001b[0m\u001b[0;34m,\u001b[0m \u001b[0;36m1\u001b[0m\u001b[0;34m\u001b[0m\u001b[0;34m\u001b[0m\u001b[0m\n\u001b[0;32m----> 7\u001b[0;31m     \u001b[0mf\u001b[0m \u001b[0;34m=\u001b[0m \u001b[0;34m[\u001b[0m\u001b[0;36m1\u001b[0m\u001b[0;34m]\u001b[0m \u001b[0;34m*\u001b[0m \u001b[0mN\u001b[0m\u001b[0;34m\u001b[0m\u001b[0;34m\u001b[0m\u001b[0m\n\u001b[0m\u001b[1;32m      8\u001b[0m     \u001b[0;32mfor\u001b[0m \u001b[0mn\u001b[0m \u001b[0;32min\u001b[0m \u001b[0mrange\u001b[0m\u001b[0;34m(\u001b[0m\u001b[0;36m1\u001b[0m\u001b[0;34m,\u001b[0m \u001b[0mN\u001b[0m\u001b[0;34m)\u001b[0m\u001b[0;34m:\u001b[0m\u001b[0;34m\u001b[0m\u001b[0;34m\u001b[0m\u001b[0m\n\u001b[1;32m      9\u001b[0m         \u001b[0mf\u001b[0m\u001b[0;34m[\u001b[0m\u001b[0mn\u001b[0m\u001b[0;34m]\u001b[0m \u001b[0;34m=\u001b[0m \u001b[0mf0\u001b[0m \u001b[0;34m+\u001b[0m \u001b[0mf1\u001b[0m\u001b[0;34m\u001b[0m\u001b[0;34m\u001b[0m\u001b[0m\n",
      "\u001b[0;31mTypeError\u001b[0m: can't multiply sequence by non-int of type 'float'"
     ]
    }
   ],
   "source": [
    "fib(1.0)"
   ]
  },
  {
   "cell_type": "code",
   "execution_count": 29,
   "metadata": {},
   "outputs": [],
   "source": [
    "#%debug"
   ]
  },
  {
   "cell_type": "markdown",
   "metadata": {},
   "source": [
    "## Timing and profiling code"
   ]
  },
  {
   "cell_type": "code",
   "execution_count": 30,
   "metadata": {},
   "outputs": [
    {
     "output_type": "stream",
     "name": "stdout",
     "text": "9.55 µs ± 280 ns per loop (mean ± std. dev. of 7 runs, 100000 loops each)\n"
    }
   ],
   "source": [
    "%timeit fib(100)"
   ]
  },
  {
   "cell_type": "code",
   "execution_count": 31,
   "metadata": {},
   "outputs": [
    {
     "output_type": "stream",
     "name": "stdout",
     "text": "CPU times: user 14 µs, sys: 3 µs, total: 17 µs\nWall time: 19.1 µs\n"
    }
   ],
   "source": [
    "result = %time fib(100)"
   ]
  },
  {
   "cell_type": "code",
   "execution_count": 32,
   "metadata": {},
   "outputs": [
    {
     "output_type": "execute_result",
     "data": {
      "text/plain": "100"
     },
     "metadata": {},
     "execution_count": 32
    }
   ],
   "source": [
    "len(result)"
   ]
  },
  {
   "cell_type": "code",
   "execution_count": 33,
   "metadata": {},
   "outputs": [],
   "source": [
    "import numpy as np\n",
    "\n",
    "def random_walker_max_distance(M, N):\n",
    "    \"\"\"\n",
    "    Simulate N random walkers taking M steps, and return the largest distance\n",
    "    from the starting point achieved by any of the random walkers.\n",
    "    \"\"\"\n",
    "    trajectories = [np.random.randn(M).cumsum() for _ in range(N)]\n",
    "    return np.max(np.abs(trajectories))"
   ]
  },
  {
   "cell_type": "code",
   "execution_count": 34,
   "metadata": {},
   "outputs": [
    {
     "output_type": "stream",
     "name": "stdout",
     "text": ""
    },
    {
     "output_type": "stream",
     "text": "         20013 function calls in 0.229 seconds\n\n   Ordered by: internal time\n\n   ncalls  tottime  percall  cumtime  percall filename:lineno(function)\n    10000    0.134    0.000    0.134    0.000 {method 'randn' of 'numpy.random.mtrand.RandomState' objects}\n    10000    0.040    0.000    0.040    0.000 {method 'cumsum' of 'numpy.ndarray' objects}\n        1    0.038    0.038    0.224    0.224 <ipython-input-33-a0ebffe020ed>:3(random_walker_max_distance)\n        1    0.008    0.008    0.183    0.183 <ipython-input-33-a0ebffe020ed>:8(<listcomp>)\n        1    0.006    0.006    0.229    0.229 <string>:1(<module>)\n        1    0.003    0.003    0.003    0.003 {method 'reduce' of 'numpy.ufunc' objects}\n        1    0.000    0.000    0.229    0.229 {built-in method builtins.exec}\n        1    0.000    0.000    0.003    0.003 fromnumeric.py:73(_wrapreduction)\n        1    0.000    0.000    0.003    0.003 <__array_function__ internals>:2(amax)\n        1    0.000    0.000    0.003    0.003 fromnumeric.py:2551(amax)\n        1    0.000    0.000    0.003    0.003 {built-in method numpy.core._multiarray_umath.implement_array_function}\n        1    0.000    0.000    0.000    0.000 fromnumeric.py:74(<dictcomp>)\n        1    0.000    0.000    0.000    0.000 {method 'disable' of '_lsprof.Profiler' objects}\n        1    0.000    0.000    0.000    0.000 fromnumeric.py:2546(_amax_dispatcher)\n        1    0.000    0.000    0.000    0.000 {method 'items' of 'dict' objects}",
     "metadata": {},
     "execution_count": 34
    }
   ],
   "source": [
    "%prun random_walker_max_distance(400, 10000)"
   ]
  },
  {
   "cell_type": "markdown",
   "metadata": {},
   "source": [
    "## Jupyter notebook"
   ]
  },
  {
   "cell_type": "code",
   "execution_count": 35,
   "metadata": {},
   "outputs": [],
   "source": [
    "from IPython.display import display, Image, HTML, Math"
   ]
  },
  {
   "cell_type": "code",
   "execution_count": 36,
   "metadata": {},
   "outputs": [
    {
     "output_type": "execute_result",
     "data": {
      "text/html": "<img src=\"http://python.org/images/python-logo.gif\"/>",
      "text/plain": "<IPython.core.display.Image object>"
     },
     "metadata": {},
     "execution_count": 36
    }
   ],
   "source": [
    "Image(url='http://python.org/images/python-logo.gif')"
   ]
  },
  {
   "cell_type": "code",
   "execution_count": 37,
   "metadata": {},
   "outputs": [],
   "source": [
    "import scipy, numpy, matplotlib\n",
    "modules = [numpy, matplotlib, scipy]\n",
    "row = \"<tr> <td>%s</td> <td>%s</td> </tr>\"\n",
    "rows = \"\\n\".join([row % (module.__name__, module.__version__) for module in modules])\n",
    "s = \"<table> <tr><th>Library</th><th>Version</th> </tr> %s</table>\" % rows"
   ]
  },
  {
   "cell_type": "code",
   "execution_count": 38,
   "metadata": {},
   "outputs": [
    {
     "output_type": "execute_result",
     "data": {
      "text/plain": "'<table> <tr><th>Library</th><th>Version</th> </tr> <tr> <td>numpy</td> <td>1.18.2</td> </tr>\\n<tr> <td>matplotlib</td> <td>3.2.1</td> </tr>\\n<tr> <td>scipy</td> <td>1.4.1</td> </tr></table>'"
     },
     "metadata": {},
     "execution_count": 38
    }
   ],
   "source": [
    "s"
   ]
  },
  {
   "cell_type": "code",
   "execution_count": 39,
   "metadata": {},
   "outputs": [
    {
     "output_type": "execute_result",
     "data": {
      "text/plain": "<IPython.core.display.HTML object>",
      "text/html": "<table> <tr><th>Library</th><th>Version</th> </tr> <tr> <td>numpy</td> <td>1.18.2</td> </tr>\n<tr> <td>matplotlib</td> <td>3.2.1</td> </tr>\n<tr> <td>scipy</td> <td>1.4.1</td> </tr></table>"
     },
     "metadata": {},
     "execution_count": 39
    }
   ],
   "source": [
    "HTML(s)"
   ]
  },
  {
   "cell_type": "code",
   "execution_count": 40,
   "metadata": {},
   "outputs": [],
   "source": [
    "class HTMLDisplayer(object):\n",
    "    def __init__(self, code):\n",
    "        self.code = code\n",
    "    \n",
    "    def _repr_html_(self):\n",
    "        return self.code"
   ]
  },
  {
   "cell_type": "code",
   "execution_count": 41,
   "metadata": {},
   "outputs": [
    {
     "output_type": "execute_result",
     "data": {
      "text/plain": "<__main__.HTMLDisplayer at 0x7fe1e02625d0>",
      "text/html": "<table> <tr><th>Library</th><th>Version</th> </tr> <tr> <td>numpy</td> <td>1.18.2</td> </tr>\n<tr> <td>matplotlib</td> <td>3.2.1</td> </tr>\n<tr> <td>scipy</td> <td>1.4.1</td> </tr></table>"
     },
     "metadata": {},
     "execution_count": 41
    }
   ],
   "source": [
    "HTMLDisplayer(s)"
   ]
  },
  {
   "cell_type": "code",
   "execution_count": 42,
   "metadata": {},
   "outputs": [
    {
     "output_type": "execute_result",
     "data": {
      "text/plain": "<IPython.core.display.Math object>",
      "text/latex": "$\\displaystyle \\hat{H} = -\\frac{1}{2}\\epsilon \\hat{\\sigma}_z-\\frac{1}{2}\\delta \\hat{\\sigma}_x$"
     },
     "metadata": {},
     "execution_count": 42
    }
   ],
   "source": [
    "Math(r'\\hat{H} = -\\frac{1}{2}\\epsilon \\hat{\\sigma}_z-\\frac{1}{2}\\delta \\hat{\\sigma}_x')"
   ]
  },
  {
   "cell_type": "code",
   "execution_count": 43,
   "metadata": {},
   "outputs": [],
   "source": [
    "class QubitHamiltonian(object):\n",
    "    def __init__(self, epsilon, delta):\n",
    "        self.epsilon = epsilon\n",
    "        self.delta = delta\n",
    "\n",
    "    def _repr_latex_(self):\n",
    "        return \"$\\hat{H} = -%.2f\\hat{\\sigma}_z-%.2f\\hat{\\sigma}_x$\" % \\\n",
    "            (self.epsilon/2, self.delta/2)"
   ]
  },
  {
   "cell_type": "code",
   "execution_count": 44,
   "metadata": {},
   "outputs": [
    {
     "output_type": "execute_result",
     "data": {
      "text/plain": "<__main__.QubitHamiltonian at 0x7fe1e0278710>",
      "text/latex": "$\\hat{H} = -0.25\\hat{\\sigma}_z-0.12\\hat{\\sigma}_x$"
     },
     "metadata": {},
     "execution_count": 44
    }
   ],
   "source": [
    "QubitHamiltonian(0.5, 0.25)"
   ]
  },
  {
   "cell_type": "code",
   "execution_count": 45,
   "metadata": {},
   "outputs": [],
   "source": [
    "import matplotlib.pyplot as plt\n",
    "import numpy as np\n",
    "from scipy import stats\n",
    "\n",
    "def f(mu):\n",
    "    X = stats.norm(loc=mu, scale=np.sqrt(mu))\n",
    "    N = stats.poisson(mu)\n",
    "    x = np.linspace(0, X.ppf(0.999))\n",
    "    n = np.arange(0, x[-1])\n",
    "\n",
    "    fig, ax = plt.subplots()\n",
    "    ax.plot(x, X.pdf(x), color='black', lw=2, label=\"Normal($\\mu=%d, \\sigma^2=%d$)\" % (mu, mu))\n",
    "    ax.bar(n, N.pmf(n), align='edge', label=r\"Poisson($\\lambda=%d$)\" % mu)\n",
    "    ax.set_ylim(0, X.pdf(x).max() * 1.25)\n",
    "    ax.legend(loc=2, ncol=2)\n",
    "    plt.close(fig)\n",
    "    return fig"
   ]
  },
  {
   "cell_type": "code",
   "execution_count": 46,
   "metadata": {},
   "outputs": [],
   "source": [
    "from ipywidgets import interact\n",
    "import ipywidgets as widgets"
   ]
  },
  {
   "cell_type": "code",
   "execution_count": 47,
   "metadata": {},
   "outputs": [
    {
     "output_type": "display_data",
     "data": {
      "text/plain": "<Figure size 432x288 with 1 Axes>",
      "image/svg+xml": "<?xml version=\"1.0\" encoding=\"utf-8\" standalone=\"no\"?>\n<!DOCTYPE svg PUBLIC \"-//W3C//DTD SVG 1.1//EN\"\n  \"http://www.w3.org/Graphics/SVG/1.1/DTD/svg11.dtd\">\n<!-- Created with matplotlib (https://matplotlib.org/) -->\n<svg height=\"248.518125pt\" version=\"1.1\" viewBox=\"0 0 372.748011 248.518125\" width=\"372.748011pt\" xmlns=\"http://www.w3.org/2000/svg\" xmlns:xlink=\"http://www.w3.org/1999/xlink\">\n <defs>\n  <style type=\"text/css\">\n*{stroke-linecap:butt;stroke-linejoin:round;}\n  </style>\n </defs>\n <g id=\"figure_1\">\n  <g id=\"patch_1\">\n   <path d=\"M 0 248.518125 \nL 372.748011 248.518125 \nL 372.748011 0 \nL 0 0 \nz\n\" style=\"fill:none;\"/>\n  </g>\n  <g id=\"axes_1\">\n   <g id=\"patch_2\">\n    <path d=\"M 30.103125 224.64 \nL 364.903125 224.64 \nL 364.903125 7.2 \nL 30.103125 7.2 \nz\n\" style=\"fill:#ffffff;\"/>\n   </g>\n   <g id=\"patch_3\">\n    <path clip-path=\"url(#pe63c11b735)\" d=\"M 45.321307 224.64 \nL 96.04858 224.64 \nL 96.04858 64.232194 \nL 45.321307 64.232194 \nz\n\" style=\"fill:#1f77b4;\"/>\n   </g>\n   <g id=\"patch_4\">\n    <path clip-path=\"url(#pe63c11b735)\" d=\"M 108.730398 224.64 \nL 159.45767 224.64 \nL 159.45767 64.232194 \nL 108.730398 64.232194 \nz\n\" style=\"fill:#1f77b4;\"/>\n   </g>\n   <g id=\"patch_5\">\n    <path clip-path=\"url(#pe63c11b735)\" d=\"M 172.139489 224.64 \nL 222.866761 224.64 \nL 222.866761 144.436097 \nL 172.139489 144.436097 \nz\n\" style=\"fill:#1f77b4;\"/>\n   </g>\n   <g id=\"patch_6\">\n    <path clip-path=\"url(#pe63c11b735)\" d=\"M 235.54858 224.64 \nL 286.275852 224.64 \nL 286.275852 197.905366 \nL 235.54858 197.905366 \nz\n\" style=\"fill:#1f77b4;\"/>\n   </g>\n   <g id=\"patch_7\">\n    <path clip-path=\"url(#pe63c11b735)\" d=\"M 298.95767 224.64 \nL 349.684943 224.64 \nL 349.684943 217.956341 \nL 298.95767 217.956341 \nz\n\" style=\"fill:#1f77b4;\"/>\n   </g>\n   <g id=\"matplotlib.axis_1\">\n    <g id=\"xtick_1\">\n     <g id=\"line2d_1\">\n      <defs>\n       <path d=\"M 0 0 \nL 0 3.5 \n\" id=\"m77dac5f73c\" style=\"stroke:#000000;stroke-width:0.8;\"/>\n      </defs>\n      <g>\n       <use style=\"stroke:#000000;stroke-width:0.8;\" x=\"45.321307\" xlink:href=\"#m77dac5f73c\" y=\"224.64\"/>\n      </g>\n     </g>\n     <g id=\"text_1\">\n      <!-- 0 -->\n      <defs>\n       <path d=\"M 31.78125 66.40625 \nQ 24.171875 66.40625 20.328125 58.90625 \nQ 16.5 51.421875 16.5 36.375 \nQ 16.5 21.390625 20.328125 13.890625 \nQ 24.171875 6.390625 31.78125 6.390625 \nQ 39.453125 6.390625 43.28125 13.890625 \nQ 47.125 21.390625 47.125 36.375 \nQ 47.125 51.421875 43.28125 58.90625 \nQ 39.453125 66.40625 31.78125 66.40625 \nz\nM 31.78125 74.21875 \nQ 44.046875 74.21875 50.515625 64.515625 \nQ 56.984375 54.828125 56.984375 36.375 \nQ 56.984375 17.96875 50.515625 8.265625 \nQ 44.046875 -1.421875 31.78125 -1.421875 \nQ 19.53125 -1.421875 13.0625 8.265625 \nQ 6.59375 17.96875 6.59375 36.375 \nQ 6.59375 54.828125 13.0625 64.515625 \nQ 19.53125 74.21875 31.78125 74.21875 \nz\n\" id=\"DejaVuSans-48\"/>\n      </defs>\n      <g transform=\"translate(42.140057 239.238437)scale(0.1 -0.1)\">\n       <use xlink:href=\"#DejaVuSans-48\"/>\n      </g>\n     </g>\n    </g>\n    <g id=\"xtick_2\">\n     <g id=\"line2d_2\">\n      <g>\n       <use style=\"stroke:#000000;stroke-width:0.8;\" x=\"108.730398\" xlink:href=\"#m77dac5f73c\" y=\"224.64\"/>\n      </g>\n     </g>\n     <g id=\"text_2\">\n      <!-- 1 -->\n      <defs>\n       <path d=\"M 12.40625 8.296875 \nL 28.515625 8.296875 \nL 28.515625 63.921875 \nL 10.984375 60.40625 \nL 10.984375 69.390625 \nL 28.421875 72.90625 \nL 38.28125 72.90625 \nL 38.28125 8.296875 \nL 54.390625 8.296875 \nL 54.390625 0 \nL 12.40625 0 \nz\n\" id=\"DejaVuSans-49\"/>\n      </defs>\n      <g transform=\"translate(105.549148 239.238437)scale(0.1 -0.1)\">\n       <use xlink:href=\"#DejaVuSans-49\"/>\n      </g>\n     </g>\n    </g>\n    <g id=\"xtick_3\">\n     <g id=\"line2d_3\">\n      <g>\n       <use style=\"stroke:#000000;stroke-width:0.8;\" x=\"172.139489\" xlink:href=\"#m77dac5f73c\" y=\"224.64\"/>\n      </g>\n     </g>\n     <g id=\"text_3\">\n      <!-- 2 -->\n      <defs>\n       <path d=\"M 19.1875 8.296875 \nL 53.609375 8.296875 \nL 53.609375 0 \nL 7.328125 0 \nL 7.328125 8.296875 \nQ 12.9375 14.109375 22.625 23.890625 \nQ 32.328125 33.6875 34.8125 36.53125 \nQ 39.546875 41.84375 41.421875 45.53125 \nQ 43.3125 49.21875 43.3125 52.78125 \nQ 43.3125 58.59375 39.234375 62.25 \nQ 35.15625 65.921875 28.609375 65.921875 \nQ 23.96875 65.921875 18.8125 64.3125 \nQ 13.671875 62.703125 7.8125 59.421875 \nL 7.8125 69.390625 \nQ 13.765625 71.78125 18.9375 73 \nQ 24.125 74.21875 28.421875 74.21875 \nQ 39.75 74.21875 46.484375 68.546875 \nQ 53.21875 62.890625 53.21875 53.421875 \nQ 53.21875 48.921875 51.53125 44.890625 \nQ 49.859375 40.875 45.40625 35.40625 \nQ 44.1875 33.984375 37.640625 27.21875 \nQ 31.109375 20.453125 19.1875 8.296875 \nz\n\" id=\"DejaVuSans-50\"/>\n      </defs>\n      <g transform=\"translate(168.958239 239.238437)scale(0.1 -0.1)\">\n       <use xlink:href=\"#DejaVuSans-50\"/>\n      </g>\n     </g>\n    </g>\n    <g id=\"xtick_4\">\n     <g id=\"line2d_4\">\n      <g>\n       <use style=\"stroke:#000000;stroke-width:0.8;\" x=\"235.54858\" xlink:href=\"#m77dac5f73c\" y=\"224.64\"/>\n      </g>\n     </g>\n     <g id=\"text_4\">\n      <!-- 3 -->\n      <defs>\n       <path d=\"M 40.578125 39.3125 \nQ 47.65625 37.796875 51.625 33 \nQ 55.609375 28.21875 55.609375 21.1875 \nQ 55.609375 10.40625 48.1875 4.484375 \nQ 40.765625 -1.421875 27.09375 -1.421875 \nQ 22.515625 -1.421875 17.65625 -0.515625 \nQ 12.796875 0.390625 7.625 2.203125 \nL 7.625 11.71875 \nQ 11.71875 9.328125 16.59375 8.109375 \nQ 21.484375 6.890625 26.8125 6.890625 \nQ 36.078125 6.890625 40.9375 10.546875 \nQ 45.796875 14.203125 45.796875 21.1875 \nQ 45.796875 27.640625 41.28125 31.265625 \nQ 36.765625 34.90625 28.71875 34.90625 \nL 20.21875 34.90625 \nL 20.21875 43.015625 \nL 29.109375 43.015625 \nQ 36.375 43.015625 40.234375 45.921875 \nQ 44.09375 48.828125 44.09375 54.296875 \nQ 44.09375 59.90625 40.109375 62.90625 \nQ 36.140625 65.921875 28.71875 65.921875 \nQ 24.65625 65.921875 20.015625 65.03125 \nQ 15.375 64.15625 9.8125 62.3125 \nL 9.8125 71.09375 \nQ 15.4375 72.65625 20.34375 73.4375 \nQ 25.25 74.21875 29.59375 74.21875 \nQ 40.828125 74.21875 47.359375 69.109375 \nQ 53.90625 64.015625 53.90625 55.328125 \nQ 53.90625 49.265625 50.4375 45.09375 \nQ 46.96875 40.921875 40.578125 39.3125 \nz\n\" id=\"DejaVuSans-51\"/>\n      </defs>\n      <g transform=\"translate(232.36733 239.238437)scale(0.1 -0.1)\">\n       <use xlink:href=\"#DejaVuSans-51\"/>\n      </g>\n     </g>\n    </g>\n    <g id=\"xtick_5\">\n     <g id=\"line2d_5\">\n      <g>\n       <use style=\"stroke:#000000;stroke-width:0.8;\" x=\"298.95767\" xlink:href=\"#m77dac5f73c\" y=\"224.64\"/>\n      </g>\n     </g>\n     <g id=\"text_5\">\n      <!-- 4 -->\n      <defs>\n       <path d=\"M 37.796875 64.3125 \nL 12.890625 25.390625 \nL 37.796875 25.390625 \nz\nM 35.203125 72.90625 \nL 47.609375 72.90625 \nL 47.609375 25.390625 \nL 58.015625 25.390625 \nL 58.015625 17.1875 \nL 47.609375 17.1875 \nL 47.609375 0 \nL 37.796875 0 \nL 37.796875 17.1875 \nL 4.890625 17.1875 \nL 4.890625 26.703125 \nz\n\" id=\"DejaVuSans-52\"/>\n      </defs>\n      <g transform=\"translate(295.77642 239.238437)scale(0.1 -0.1)\">\n       <use xlink:href=\"#DejaVuSans-52\"/>\n      </g>\n     </g>\n    </g>\n    <g id=\"xtick_6\">\n     <g id=\"line2d_6\">\n      <g>\n       <use style=\"stroke:#000000;stroke-width:0.8;\" x=\"362.366761\" xlink:href=\"#m77dac5f73c\" y=\"224.64\"/>\n      </g>\n     </g>\n     <g id=\"text_6\">\n      <!-- 5 -->\n      <defs>\n       <path d=\"M 10.796875 72.90625 \nL 49.515625 72.90625 \nL 49.515625 64.59375 \nL 19.828125 64.59375 \nL 19.828125 46.734375 \nQ 21.96875 47.46875 24.109375 47.828125 \nQ 26.265625 48.1875 28.421875 48.1875 \nQ 40.625 48.1875 47.75 41.5 \nQ 54.890625 34.8125 54.890625 23.390625 \nQ 54.890625 11.625 47.5625 5.09375 \nQ 40.234375 -1.421875 26.90625 -1.421875 \nQ 22.3125 -1.421875 17.546875 -0.640625 \nQ 12.796875 0.140625 7.71875 1.703125 \nL 7.71875 11.625 \nQ 12.109375 9.234375 16.796875 8.0625 \nQ 21.484375 6.890625 26.703125 6.890625 \nQ 35.15625 6.890625 40.078125 11.328125 \nQ 45.015625 15.765625 45.015625 23.390625 \nQ 45.015625 31 40.078125 35.4375 \nQ 35.15625 39.890625 26.703125 39.890625 \nQ 22.75 39.890625 18.8125 39.015625 \nQ 14.890625 38.140625 10.796875 36.28125 \nz\n\" id=\"DejaVuSans-53\"/>\n      </defs>\n      <g transform=\"translate(359.185511 239.238437)scale(0.1 -0.1)\">\n       <use xlink:href=\"#DejaVuSans-53\"/>\n      </g>\n     </g>\n    </g>\n   </g>\n   <g id=\"matplotlib.axis_2\">\n    <g id=\"ytick_1\">\n     <g id=\"line2d_7\">\n      <defs>\n       <path d=\"M 0 0 \nL -3.5 0 \n\" id=\"m98afc32fa6\" style=\"stroke:#000000;stroke-width:0.8;\"/>\n      </defs>\n      <g>\n       <use style=\"stroke:#000000;stroke-width:0.8;\" x=\"30.103125\" xlink:href=\"#m98afc32fa6\" y=\"224.64\"/>\n      </g>\n     </g>\n     <g id=\"text_7\">\n      <!-- 0.0 -->\n      <defs>\n       <path d=\"M 10.6875 12.40625 \nL 21 12.40625 \nL 21 0 \nL 10.6875 0 \nz\n\" id=\"DejaVuSans-46\"/>\n      </defs>\n      <g transform=\"translate(7.2 228.439219)scale(0.1 -0.1)\">\n       <use xlink:href=\"#DejaVuSans-48\"/>\n       <use x=\"63.623047\" xlink:href=\"#DejaVuSans-46\"/>\n       <use x=\"95.410156\" xlink:href=\"#DejaVuSans-48\"/>\n      </g>\n     </g>\n    </g>\n    <g id=\"ytick_2\">\n     <g id=\"line2d_8\">\n      <g>\n       <use style=\"stroke:#000000;stroke-width:0.8;\" x=\"30.103125\" xlink:href=\"#m98afc32fa6\" y=\"181.036638\"/>\n      </g>\n     </g>\n     <g id=\"text_8\">\n      <!-- 0.1 -->\n      <g transform=\"translate(7.2 184.835856)scale(0.1 -0.1)\">\n       <use xlink:href=\"#DejaVuSans-48\"/>\n       <use x=\"63.623047\" xlink:href=\"#DejaVuSans-46\"/>\n       <use x=\"95.410156\" xlink:href=\"#DejaVuSans-49\"/>\n      </g>\n     </g>\n    </g>\n    <g id=\"ytick_3\">\n     <g id=\"line2d_9\">\n      <g>\n       <use style=\"stroke:#000000;stroke-width:0.8;\" x=\"30.103125\" xlink:href=\"#m98afc32fa6\" y=\"137.433275\"/>\n      </g>\n     </g>\n     <g id=\"text_9\">\n      <!-- 0.2 -->\n      <g transform=\"translate(7.2 141.232494)scale(0.1 -0.1)\">\n       <use xlink:href=\"#DejaVuSans-48\"/>\n       <use x=\"63.623047\" xlink:href=\"#DejaVuSans-46\"/>\n       <use x=\"95.410156\" xlink:href=\"#DejaVuSans-50\"/>\n      </g>\n     </g>\n    </g>\n    <g id=\"ytick_4\">\n     <g id=\"line2d_10\">\n      <g>\n       <use style=\"stroke:#000000;stroke-width:0.8;\" x=\"30.103125\" xlink:href=\"#m98afc32fa6\" y=\"93.829913\"/>\n      </g>\n     </g>\n     <g id=\"text_10\">\n      <!-- 0.3 -->\n      <g transform=\"translate(7.2 97.629132)scale(0.1 -0.1)\">\n       <use xlink:href=\"#DejaVuSans-48\"/>\n       <use x=\"63.623047\" xlink:href=\"#DejaVuSans-46\"/>\n       <use x=\"95.410156\" xlink:href=\"#DejaVuSans-51\"/>\n      </g>\n     </g>\n    </g>\n    <g id=\"ytick_5\">\n     <g id=\"line2d_11\">\n      <g>\n       <use style=\"stroke:#000000;stroke-width:0.8;\" x=\"30.103125\" xlink:href=\"#m98afc32fa6\" y=\"50.22655\"/>\n      </g>\n     </g>\n     <g id=\"text_11\">\n      <!-- 0.4 -->\n      <g transform=\"translate(7.2 54.025769)scale(0.1 -0.1)\">\n       <use xlink:href=\"#DejaVuSans-48\"/>\n       <use x=\"63.623047\" xlink:href=\"#DejaVuSans-46\"/>\n       <use x=\"95.410156\" xlink:href=\"#DejaVuSans-52\"/>\n      </g>\n     </g>\n    </g>\n   </g>\n   <g id=\"line2d_12\">\n    <path clip-path=\"url(#pe63c11b735)\" d=\"M 45.321307 119.132628 \nL 50.614325 110.346353 \nL 55.907344 101.6881 \nL 61.200363 93.292363 \nL 66.493381 85.297644 \nL 71.7864 77.842756 \nL 77.079419 71.062879 \nL 82.372437 65.085519 \nL 87.665456 60.026535 \nL 92.958474 55.986416 \nL 98.251493 53.046964 \nL 103.544512 51.268539 \nL 108.83753 50.688 \nL 114.130549 51.317434 \nL 119.423567 53.143738 \nL 124.716586 56.12907 \nL 130.009605 60.212158 \nL 135.302623 65.310385 \nL 140.595642 71.322573 \nL 145.888661 78.132316 \nL 151.181679 85.61172 \nL 156.474698 93.625379 \nL 161.767716 102.034417 \nL 167.060735 110.700426 \nL 172.353754 119.489146 \nL 177.646772 128.273766 \nL 182.939791 136.93773 \nL 188.232809 145.376975 \nL 193.525828 153.501562 \nL 198.818847 161.236699 \nL 204.111865 168.523151 \nL 209.404884 175.317105 \nL 214.697903 181.589549 \nL 219.990921 187.325235 \nL 225.28394 192.521327 \nL 230.576958 197.185829 \nL 235.869977 201.335867 \nL 241.162996 204.995932 \nL 246.456014 208.19614 \nL 251.749033 210.970584 \nL 257.042051 213.355819 \nL 262.33507 215.389526 \nL 267.628089 217.109362 \nL 272.921107 218.552016 \nL 278.214126 219.752475 \nL 283.507144 220.743466 \nL 288.800163 221.555096 \nL 294.093182 222.214625 \nL 299.3862 222.746393 \nL 304.679219 223.171836 \n\" style=\"fill:none;stroke:#000000;stroke-linecap:square;stroke-width:2;\"/>\n   </g>\n   <g id=\"patch_8\">\n    <path d=\"M 30.103125 224.64 \nL 30.103125 7.2 \n\" style=\"fill:none;stroke:#000000;stroke-linecap:square;stroke-linejoin:miter;stroke-width:0.8;\"/>\n   </g>\n   <g id=\"patch_9\">\n    <path d=\"M 364.903125 224.64 \nL 364.903125 7.2 \n\" style=\"fill:none;stroke:#000000;stroke-linecap:square;stroke-linejoin:miter;stroke-width:0.8;\"/>\n   </g>\n   <g id=\"patch_10\">\n    <path d=\"M 30.103125 224.64 \nL 364.903125 224.64 \n\" style=\"fill:none;stroke:#000000;stroke-linecap:square;stroke-linejoin:miter;stroke-width:0.8;\"/>\n   </g>\n   <g id=\"patch_11\">\n    <path d=\"M 30.103125 7.2 \nL 364.903125 7.2 \n\" style=\"fill:none;stroke:#000000;stroke-linecap:square;stroke-linejoin:miter;stroke-width:0.8;\"/>\n   </g>\n   <g id=\"legend_1\">\n    <g id=\"patch_12\">\n     <path d=\"M 37.103125 31.4 \nL 291.803125 31.4 \nQ 293.803125 31.4 293.803125 29.4 \nL 293.803125 14.2 \nQ 293.803125 12.2 291.803125 12.2 \nL 37.103125 12.2 \nQ 35.103125 12.2 35.103125 14.2 \nL 35.103125 29.4 \nQ 35.103125 31.4 37.103125 31.4 \nz\n\" style=\"fill:#ffffff;opacity:0.8;stroke:#cccccc;stroke-linejoin:miter;\"/>\n    </g>\n    <g id=\"line2d_13\">\n     <path d=\"M 39.103125 21.8 \nL 59.103125 21.8 \n\" style=\"fill:none;stroke:#000000;stroke-linecap:square;stroke-width:2;\"/>\n    </g>\n    <g id=\"line2d_14\"/>\n    <g id=\"text_12\">\n     <!-- Normal($\\mu=1, \\sigma^2=1$) -->\n     <defs>\n      <path d=\"M 9.8125 72.90625 \nL 23.09375 72.90625 \nL 55.421875 11.921875 \nL 55.421875 72.90625 \nL 64.984375 72.90625 \nL 64.984375 0 \nL 51.703125 0 \nL 19.390625 60.984375 \nL 19.390625 0 \nL 9.8125 0 \nz\n\" id=\"DejaVuSans-78\"/>\n      <path d=\"M 30.609375 48.390625 \nQ 23.390625 48.390625 19.1875 42.75 \nQ 14.984375 37.109375 14.984375 27.296875 \nQ 14.984375 17.484375 19.15625 11.84375 \nQ 23.34375 6.203125 30.609375 6.203125 \nQ 37.796875 6.203125 41.984375 11.859375 \nQ 46.1875 17.53125 46.1875 27.296875 \nQ 46.1875 37.015625 41.984375 42.703125 \nQ 37.796875 48.390625 30.609375 48.390625 \nz\nM 30.609375 56 \nQ 42.328125 56 49.015625 48.375 \nQ 55.71875 40.765625 55.71875 27.296875 \nQ 55.71875 13.875 49.015625 6.21875 \nQ 42.328125 -1.421875 30.609375 -1.421875 \nQ 18.84375 -1.421875 12.171875 6.21875 \nQ 5.515625 13.875 5.515625 27.296875 \nQ 5.515625 40.765625 12.171875 48.375 \nQ 18.84375 56 30.609375 56 \nz\n\" id=\"DejaVuSans-111\"/>\n      <path d=\"M 41.109375 46.296875 \nQ 39.59375 47.171875 37.8125 47.578125 \nQ 36.03125 48 33.890625 48 \nQ 26.265625 48 22.1875 43.046875 \nQ 18.109375 38.09375 18.109375 28.8125 \nL 18.109375 0 \nL 9.078125 0 \nL 9.078125 54.6875 \nL 18.109375 54.6875 \nL 18.109375 46.1875 \nQ 20.953125 51.171875 25.484375 53.578125 \nQ 30.03125 56 36.53125 56 \nQ 37.453125 56 38.578125 55.875 \nQ 39.703125 55.765625 41.0625 55.515625 \nz\n\" id=\"DejaVuSans-114\"/>\n      <path d=\"M 52 44.1875 \nQ 55.375 50.25 60.0625 53.125 \nQ 64.75 56 71.09375 56 \nQ 79.640625 56 84.28125 50.015625 \nQ 88.921875 44.046875 88.921875 33.015625 \nL 88.921875 0 \nL 79.890625 0 \nL 79.890625 32.71875 \nQ 79.890625 40.578125 77.09375 44.375 \nQ 74.3125 48.1875 68.609375 48.1875 \nQ 61.625 48.1875 57.5625 43.546875 \nQ 53.515625 38.921875 53.515625 30.90625 \nL 53.515625 0 \nL 44.484375 0 \nL 44.484375 32.71875 \nQ 44.484375 40.625 41.703125 44.40625 \nQ 38.921875 48.1875 33.109375 48.1875 \nQ 26.21875 48.1875 22.15625 43.53125 \nQ 18.109375 38.875 18.109375 30.90625 \nL 18.109375 0 \nL 9.078125 0 \nL 9.078125 54.6875 \nL 18.109375 54.6875 \nL 18.109375 46.1875 \nQ 21.1875 51.21875 25.484375 53.609375 \nQ 29.78125 56 35.6875 56 \nQ 41.65625 56 45.828125 52.96875 \nQ 50 49.953125 52 44.1875 \nz\n\" id=\"DejaVuSans-109\"/>\n      <path d=\"M 34.28125 27.484375 \nQ 23.390625 27.484375 19.1875 25 \nQ 14.984375 22.515625 14.984375 16.5 \nQ 14.984375 11.71875 18.140625 8.90625 \nQ 21.296875 6.109375 26.703125 6.109375 \nQ 34.1875 6.109375 38.703125 11.40625 \nQ 43.21875 16.703125 43.21875 25.484375 \nL 43.21875 27.484375 \nz\nM 52.203125 31.203125 \nL 52.203125 0 \nL 43.21875 0 \nL 43.21875 8.296875 \nQ 40.140625 3.328125 35.546875 0.953125 \nQ 30.953125 -1.421875 24.3125 -1.421875 \nQ 15.921875 -1.421875 10.953125 3.296875 \nQ 6 8.015625 6 15.921875 \nQ 6 25.140625 12.171875 29.828125 \nQ 18.359375 34.515625 30.609375 34.515625 \nL 43.21875 34.515625 \nL 43.21875 35.40625 \nQ 43.21875 41.609375 39.140625 45 \nQ 35.0625 48.390625 27.6875 48.390625 \nQ 23 48.390625 18.546875 47.265625 \nQ 14.109375 46.140625 10.015625 43.890625 \nL 10.015625 52.203125 \nQ 14.9375 54.109375 19.578125 55.046875 \nQ 24.21875 56 28.609375 56 \nQ 40.484375 56 46.34375 49.84375 \nQ 52.203125 43.703125 52.203125 31.203125 \nz\n\" id=\"DejaVuSans-97\"/>\n      <path d=\"M 9.421875 75.984375 \nL 18.40625 75.984375 \nL 18.40625 0 \nL 9.421875 0 \nz\n\" id=\"DejaVuSans-108\"/>\n      <path d=\"M 31 75.875 \nQ 24.46875 64.65625 21.28125 53.65625 \nQ 18.109375 42.671875 18.109375 31.390625 \nQ 18.109375 20.125 21.3125 9.0625 \nQ 24.515625 -2 31 -13.1875 \nL 23.1875 -13.1875 \nQ 15.875 -1.703125 12.234375 9.375 \nQ 8.59375 20.453125 8.59375 31.390625 \nQ 8.59375 42.28125 12.203125 53.3125 \nQ 15.828125 64.359375 23.1875 75.875 \nz\n\" id=\"DejaVuSans-40\"/>\n      <path d=\"M -1.3125 -20.796875 \nL 13.375 54.6875 \nL 22.40625 54.6875 \nL 15.765625 20.65625 \nQ 15.578125 19.625 15.421875 18.359375 \nQ 15.28125 17.09375 15.28125 15.828125 \nQ 15.28125 11.28125 18.140625 8.828125 \nQ 21 6.390625 26.3125 6.390625 \nQ 33.546875 6.390625 37.984375 10.484375 \nQ 42.4375 14.59375 44 22.796875 \nL 50.203125 54.6875 \nL 59.1875 54.6875 \nL 51.03125 12.640625 \nQ 50.828125 11.71875 50.75 11.03125 \nQ 50.6875 10.359375 50.6875 9.8125 \nQ 50.6875 8.296875 51.296875 7.59375 \nQ 51.90625 6.890625 53.21875 6.890625 \nQ 53.71875 6.890625 54.5625 7.125 \nQ 55.421875 7.375 56.984375 8.015625 \nL 55.609375 0.78125 \nQ 53.46875 -0.296875 51.515625 -0.859375 \nQ 49.5625 -1.421875 47.703125 -1.421875 \nQ 44.484375 -1.421875 42.65625 0.625 \nQ 40.828125 2.6875 40.828125 6.296875 \nQ 38.09375 2.390625 34.296875 0.484375 \nQ 30.515625 -1.421875 25.390625 -1.421875 \nQ 20.84375 -1.421875 17.453125 0.671875 \nQ 14.0625 2.78125 12.984375 6.203125 \nL 7.71875 -20.796875 \nz\n\" id=\"DejaVuSans-Oblique-956\"/>\n      <path d=\"M 10.59375 45.40625 \nL 73.1875 45.40625 \nL 73.1875 37.203125 \nL 10.59375 37.203125 \nz\nM 10.59375 25.484375 \nL 73.1875 25.484375 \nL 73.1875 17.1875 \nL 10.59375 17.1875 \nz\n\" id=\"DejaVuSans-61\"/>\n      <path d=\"M 11.71875 12.40625 \nL 22.015625 12.40625 \nL 22.015625 4 \nL 14.015625 -11.625 \nL 7.71875 -11.625 \nL 11.71875 4 \nz\n\" id=\"DejaVuSans-44\"/>\n      <path d=\"M 34.671875 47.5625 \nQ 27.25 47.5625 22.21875 42.1875 \nQ 16.890625 36.578125 15.140625 27.296875 \nQ 13.1875 17.484375 16.3125 11.8125 \nQ 19.390625 6.203125 26.65625 6.203125 \nQ 33.84375 6.203125 39.109375 11.859375 \nQ 44.4375 17.53125 46.34375 27.296875 \nQ 48.046875 36.234375 45.015625 42.1875 \nQ 42.1875 47.5625 34.671875 47.5625 \nz\nM 36.078125 54.734375 \nL 65.921875 54.6875 \nL 64.15625 45.703125 \nL 54.109375 45.703125 \nQ 57.90625 38.09375 55.859375 27.296875 \nQ 53.21875 13.875 45.0625 6.25 \nQ 36.859375 -1.421875 25.140625 -1.421875 \nQ 13.375 -1.421875 8.203125 6.25 \nQ 3.03125 13.875 5.671875 27.296875 \nQ 8.25 40.765625 16.40625 48.390625 \nQ 23.1875 54.734375 36.078125 54.734375 \nz\n\" id=\"DejaVuSans-Oblique-963\"/>\n      <path d=\"M 8.015625 75.875 \nL 15.828125 75.875 \nQ 23.140625 64.359375 26.78125 53.3125 \nQ 30.421875 42.28125 30.421875 31.390625 \nQ 30.421875 20.453125 26.78125 9.375 \nQ 23.140625 -1.703125 15.828125 -13.1875 \nL 8.015625 -13.1875 \nQ 14.5 -2 17.703125 9.0625 \nQ 20.90625 20.125 20.90625 31.390625 \nQ 20.90625 42.671875 17.703125 53.65625 \nQ 14.5 64.65625 8.015625 75.875 \nz\n\" id=\"DejaVuSans-41\"/>\n     </defs>\n     <g transform=\"translate(67.103125 25.3)scale(0.1 -0.1)\">\n      <use transform=\"translate(0 0.765625)\" xlink:href=\"#DejaVuSans-78\"/>\n      <use transform=\"translate(74.804688 0.765625)\" xlink:href=\"#DejaVuSans-111\"/>\n      <use transform=\"translate(135.986328 0.765625)\" xlink:href=\"#DejaVuSans-114\"/>\n      <use transform=\"translate(177.099609 0.765625)\" xlink:href=\"#DejaVuSans-109\"/>\n      <use transform=\"translate(274.511719 0.765625)\" xlink:href=\"#DejaVuSans-97\"/>\n      <use transform=\"translate(335.791016 0.765625)\" xlink:href=\"#DejaVuSans-108\"/>\n      <use transform=\"translate(363.574219 0.765625)\" xlink:href=\"#DejaVuSans-40\"/>\n      <use transform=\"translate(402.587891 0.765625)\" xlink:href=\"#DejaVuSans-Oblique-956\"/>\n      <use transform=\"translate(485.693359 0.765625)\" xlink:href=\"#DejaVuSans-61\"/>\n      <use transform=\"translate(588.964844 0.765625)\" xlink:href=\"#DejaVuSans-49\"/>\n      <use transform=\"translate(652.587891 0.765625)\" xlink:href=\"#DejaVuSans-44\"/>\n      <use transform=\"translate(703.857422 0.765625)\" xlink:href=\"#DejaVuSans-Oblique-963\"/>\n      <use transform=\"translate(771.709036 39.046875)scale(0.7)\" xlink:href=\"#DejaVuSans-50\"/>\n      <use transform=\"translate(838.461966 0.765625)\" xlink:href=\"#DejaVuSans-61\"/>\n      <use transform=\"translate(941.733451 0.765625)\" xlink:href=\"#DejaVuSans-49\"/>\n      <use transform=\"translate(1005.356497 0.765625)\" xlink:href=\"#DejaVuSans-41\"/>\n     </g>\n    </g>\n    <g id=\"patch_13\">\n     <path d=\"M 191.603125 25.3 \nL 211.603125 25.3 \nL 211.603125 18.3 \nL 191.603125 18.3 \nz\n\" style=\"fill:#1f77b4;\"/>\n    </g>\n    <g id=\"text_13\">\n     <!-- Poisson($\\lambda=1$) -->\n     <defs>\n      <path d=\"M 19.671875 64.796875 \nL 19.671875 37.40625 \nL 32.078125 37.40625 \nQ 38.96875 37.40625 42.71875 40.96875 \nQ 46.484375 44.53125 46.484375 51.125 \nQ 46.484375 57.671875 42.71875 61.234375 \nQ 38.96875 64.796875 32.078125 64.796875 \nz\nM 9.8125 72.90625 \nL 32.078125 72.90625 \nQ 44.34375 72.90625 50.609375 67.359375 \nQ 56.890625 61.8125 56.890625 51.125 \nQ 56.890625 40.328125 50.609375 34.8125 \nQ 44.34375 29.296875 32.078125 29.296875 \nL 19.671875 29.296875 \nL 19.671875 0 \nL 9.8125 0 \nz\n\" id=\"DejaVuSans-80\"/>\n      <path d=\"M 9.421875 54.6875 \nL 18.40625 54.6875 \nL 18.40625 0 \nL 9.421875 0 \nz\nM 9.421875 75.984375 \nL 18.40625 75.984375 \nL 18.40625 64.59375 \nL 9.421875 64.59375 \nz\n\" id=\"DejaVuSans-105\"/>\n      <path d=\"M 44.28125 53.078125 \nL 44.28125 44.578125 \nQ 40.484375 46.53125 36.375 47.5 \nQ 32.28125 48.484375 27.875 48.484375 \nQ 21.1875 48.484375 17.84375 46.4375 \nQ 14.5 44.390625 14.5 40.28125 \nQ 14.5 37.15625 16.890625 35.375 \nQ 19.28125 33.59375 26.515625 31.984375 \nL 29.59375 31.296875 \nQ 39.15625 29.25 43.1875 25.515625 \nQ 47.21875 21.78125 47.21875 15.09375 \nQ 47.21875 7.46875 41.1875 3.015625 \nQ 35.15625 -1.421875 24.609375 -1.421875 \nQ 20.21875 -1.421875 15.453125 -0.5625 \nQ 10.6875 0.296875 5.421875 2 \nL 5.421875 11.28125 \nQ 10.40625 8.6875 15.234375 7.390625 \nQ 20.0625 6.109375 24.8125 6.109375 \nQ 31.15625 6.109375 34.5625 8.28125 \nQ 37.984375 10.453125 37.984375 14.40625 \nQ 37.984375 18.0625 35.515625 20.015625 \nQ 33.0625 21.96875 24.703125 23.78125 \nL 21.578125 24.515625 \nQ 13.234375 26.265625 9.515625 29.90625 \nQ 5.8125 33.546875 5.8125 39.890625 \nQ 5.8125 47.609375 11.28125 51.796875 \nQ 16.75 56 26.8125 56 \nQ 31.78125 56 36.171875 55.265625 \nQ 40.578125 54.546875 44.28125 53.078125 \nz\n\" id=\"DejaVuSans-115\"/>\n      <path d=\"M 54.890625 33.015625 \nL 54.890625 0 \nL 45.90625 0 \nL 45.90625 32.71875 \nQ 45.90625 40.484375 42.875 44.328125 \nQ 39.84375 48.1875 33.796875 48.1875 \nQ 26.515625 48.1875 22.3125 43.546875 \nQ 18.109375 38.921875 18.109375 30.90625 \nL 18.109375 0 \nL 9.078125 0 \nL 9.078125 54.6875 \nL 18.109375 54.6875 \nL 18.109375 46.1875 \nQ 21.34375 51.125 25.703125 53.5625 \nQ 30.078125 56 35.796875 56 \nQ 45.21875 56 50.046875 50.171875 \nQ 54.890625 44.34375 54.890625 33.015625 \nz\n\" id=\"DejaVuSans-110\"/>\n      <path d=\"M 36.71875 67.4375 \nL 48.828125 0 \nL 39.3125 0 \nL 31.84375 40.4375 \nL 5.125 0 \nL -4.390625 0 \nL 29.734375 52.4375 \nL 28.03125 62.109375 \nQ 26.953125 68.265625 21.734375 68.265625 \nL 17.046875 68.265625 \nL 18.5 75.984375 \nL 24.21875 75.875 \nQ 35.203125 75.734375 36.71875 67.4375 \nz\n\" id=\"DejaVuSans-Oblique-955\"/>\n     </defs>\n     <g transform=\"translate(219.603125 25.3)scale(0.1 -0.1)\">\n      <use transform=\"translate(0 0.015625)\" xlink:href=\"#DejaVuSans-80\"/>\n      <use transform=\"translate(60.302734 0.015625)\" xlink:href=\"#DejaVuSans-111\"/>\n      <use transform=\"translate(121.484375 0.015625)\" xlink:href=\"#DejaVuSans-105\"/>\n      <use transform=\"translate(149.267578 0.015625)\" xlink:href=\"#DejaVuSans-115\"/>\n      <use transform=\"translate(201.367188 0.015625)\" xlink:href=\"#DejaVuSans-115\"/>\n      <use transform=\"translate(253.466797 0.015625)\" xlink:href=\"#DejaVuSans-111\"/>\n      <use transform=\"translate(314.648438 0.015625)\" xlink:href=\"#DejaVuSans-110\"/>\n      <use transform=\"translate(378.027344 0.015625)\" xlink:href=\"#DejaVuSans-40\"/>\n      <use transform=\"translate(417.041016 0.015625)\" xlink:href=\"#DejaVuSans-Oblique-955\"/>\n      <use transform=\"translate(495.703125 0.015625)\" xlink:href=\"#DejaVuSans-61\"/>\n      <use transform=\"translate(598.974609 0.015625)\" xlink:href=\"#DejaVuSans-49\"/>\n      <use transform=\"translate(662.597656 0.015625)\" xlink:href=\"#DejaVuSans-41\"/>\n     </g>\n    </g>\n   </g>\n  </g>\n </g>\n <defs>\n  <clipPath id=\"pe63c11b735\">\n   <rect height=\"217.44\" width=\"334.8\" x=\"30.103125\" y=\"7.2\"/>\n  </clipPath>\n </defs>\n</svg>\n",
      "image/png": "[encoded data removed]"
     },
     "metadata": {}
    }
   ],
   "source": [
    "interact(f, mu=widgets.FloatSlider(min=1.0, max=20.0, step=1.0));"
   ]
  },
  {
   "cell_type": "markdown",
   "metadata": {},
   "source": [
    "## Jupyter nbconvert"
   ]
  },
  {
   "cell_type": "code",
   "execution_count": 48,
   "metadata": {},
   "outputs": [
    {
     "output_type": "stream",
     "name": "stdout",
     "text": "[TerminalIPythonApp] WARNING | Subcommand `ipython nbconvert` is deprecated and will be removed in future versions.\n[TerminalIPythonApp] WARNING | You likely want to use `jupyter nbconvert` in the future\n[NbConvertApp] Converting notebook ch01-code-listing.ipynb to html\n[NbConvertApp] ERROR | Notebook JSON is invalid: Additional properties are not allowed ('metadata', 'execution_count' were unexpected)\n\nFailed validating 'additionalProperties' in stream:\n\nOn instance['cells'][20]['outputs'][0]:\n{'execution_count': 16,\n 'metadata': {},\n 'output_type': 'stream',\n 'text': '\\x1b[0;31mSignature:\\x1b[0m '\n         '\\x1b[0mmath\\x1b[0m\\x1b[0;34m.\\x1b[0m\\x1b[0mcos\\x1b[0m\\x1b[0;34m...'}\n--- Logging error ---\nTraceback (most recent call last):\n  File \"/Users/Giwrgakis/opt/anaconda3/lib/python3.7/site-packages/nbconvert/exporters/exporter.py\", line 318, in _preprocess\n    nbformat.validate(nbc, relax_add_props=True)\n  File \"/Users/Giwrgakis/opt/anaconda3/lib/python3.7/site-packages/nbformat/validator.py\", line 277, in validate\n    raise error\nnbformat.validator.NotebookValidationError: 'name' is a required property\n\nFailed validating 'required' in stream:\n\nOn instance['cells'][20]['outputs'][0]:\n{'execution_count': 16,\n 'metadata': {},\n 'output_type': 'stream',\n 'text': '\\x1b[0;31mSignature:\\x1b[0m '\n         '\\x1b[0mmath\\x1b[0m\\x1b[0;34m.\\x1b[0m\\x1b[0mcos\\x1b[0m\\x1b[0;34m...'}\n\nDuring handling of the above exception, another exception occurred:\n\nTraceback (most recent call last):\n  File \"/Users/Giwrgakis/opt/anaconda3/lib/python3.7/logging/__init__.py\", line 1025, in emit\n    msg = self.format(record)\n  File \"/Users/Giwrgakis/opt/anaconda3/lib/python3.7/logging/__init__.py\", line 869, in format\n    return fmt.format(record)\n  File \"/Users/Giwrgakis/opt/anaconda3/lib/python3.7/site-packages/traitlets/config/application.py\", line 117, in format\n    return super(LevelFormatter, self).format(record)\n  File \"/Users/Giwrgakis/opt/anaconda3/lib/python3.7/logging/__init__.py\", line 608, in format\n    record.message = record.getMessage()\n  File \"/Users/Giwrgakis/opt/anaconda3/lib/python3.7/logging/__init__.py\", line 369, in getMessage\n    msg = msg % self.args\nTypeError: not all arguments converted during string formatting\nCall stack:\n  File \"/Users/Giwrgakis/opt/anaconda3/bin/ipython\", line 11, in <module>\n    sys.exit(start_ipython())\n  File \"/Users/Giwrgakis/opt/anaconda3/lib/python3.7/site-packages/IPython/__init__.py\", line 126, in start_ipython\n    return launch_new_instance(argv=argv, **kwargs)\n  File \"/Users/Giwrgakis/opt/anaconda3/lib/python3.7/site-packages/traitlets/config/application.py\", line 664, in launch_instance\n    app.start()\n  File \"/Users/Giwrgakis/opt/anaconda3/lib/python3.7/site-packages/IPython/terminal/ipapp.py\", line 352, in start\n    return self.subapp.start()\n  File \"/Users/Giwrgakis/opt/anaconda3/lib/python3.7/site-packages/nbconvert/nbconvertapp.py\", line 340, in start\n    self.convert_notebooks()\n  File \"/Users/Giwrgakis/opt/anaconda3/lib/python3.7/site-packages/nbconvert/nbconvertapp.py\", line 510, in convert_notebooks\n    self.convert_single_notebook(notebook_filename)\n  File \"/Users/Giwrgakis/opt/anaconda3/lib/python3.7/site-packages/nbconvert/nbconvertapp.py\", line 481, in convert_single_notebook\n    output, resources = self.export_single_notebook(notebook_filename, resources, input_buffer=input_buffer)\n  File \"/Users/Giwrgakis/opt/anaconda3/lib/python3.7/site-packages/nbconvert/nbconvertapp.py\", line 410, in export_single_notebook\n    output, resources = self.exporter.from_filename(notebook_filename, resources=resources)\n  File \"/Users/Giwrgakis/opt/anaconda3/lib/python3.7/site-packages/nbconvert/exporters/exporter.py\", line 179, in from_filename\n    return self.from_file(f, resources=resources, **kw)\n  File \"/Users/Giwrgakis/opt/anaconda3/lib/python3.7/site-packages/nbconvert/exporters/exporter.py\", line 197, in from_file\n    return self.from_notebook_node(nbformat.read(file_stream, as_version=4), resources=resources, **kw)\n  File \"/Users/Giwrgakis/opt/anaconda3/lib/python3.7/site-packages/nbconvert/exporters/html.py\", line 95, in from_notebook_node\n    return super(HTMLExporter, self).from_notebook_node(nb, resources, **kw)\n  File \"/Users/Giwrgakis/opt/anaconda3/lib/python3.7/site-packages/nbconvert/exporters/templateexporter.py\", line 307, in from_notebook_node\n    nb_copy, resources = super(TemplateExporter, self).from_notebook_node(nb, resources, **kw)\n  File \"/Users/Giwrgakis/opt/anaconda3/lib/python3.7/site-packages/nbconvert/exporters/exporter.py\", line 139, in from_notebook_node\n    nb_copy, resources = self._preprocess(nb_copy, resources)\n  File \"/Users/Giwrgakis/opt/anaconda3/lib/python3.7/site-packages/nbconvert/exporters/exporter.py\", line 321, in _preprocess\n    preprocessor)\nMessage: 'Notebook is invalid after preprocessor {}'\nArguments: (<nbconvert.preprocessors.tagremove.TagRemovePreprocessor object at 0x7fa8c05daa90>,)\nTraceback (most recent call last):\n  File \"/Users/Giwrgakis/opt/anaconda3/bin/ipython\", line 11, in <module>\n    sys.exit(start_ipython())\n  File \"/Users/Giwrgakis/opt/anaconda3/lib/python3.7/site-packages/IPython/__init__.py\", line 126, in start_ipython\n    return launch_new_instance(argv=argv, **kwargs)\n  File \"/Users/Giwrgakis/opt/anaconda3/lib/python3.7/site-packages/traitlets/config/application.py\", line 664, in launch_instance\n    app.start()\n  File \"/Users/Giwrgakis/opt/anaconda3/lib/python3.7/site-packages/IPython/terminal/ipapp.py\", line 352, in start\n    return self.subapp.start()\n  File \"/Users/Giwrgakis/opt/anaconda3/lib/python3.7/site-packages/nbconvert/nbconvertapp.py\", line 340, in start\n    self.convert_notebooks()\n  File \"/Users/Giwrgakis/opt/anaconda3/lib/python3.7/site-packages/nbconvert/nbconvertapp.py\", line 510, in convert_notebooks\n    self.convert_single_notebook(notebook_filename)\n  File \"/Users/Giwrgakis/opt/anaconda3/lib/python3.7/site-packages/nbconvert/nbconvertapp.py\", line 481, in convert_single_notebook\n    output, resources = self.export_single_notebook(notebook_filename, resources, input_buffer=input_buffer)\n  File \"/Users/Giwrgakis/opt/anaconda3/lib/python3.7/site-packages/nbconvert/nbconvertapp.py\", line 410, in export_single_notebook\n    output, resources = self.exporter.from_filename(notebook_filename, resources=resources)\n  File \"/Users/Giwrgakis/opt/anaconda3/lib/python3.7/site-packages/nbconvert/exporters/exporter.py\", line 179, in from_filename\n    return self.from_file(f, resources=resources, **kw)\n  File \"/Users/Giwrgakis/opt/anaconda3/lib/python3.7/site-packages/nbconvert/exporters/exporter.py\", line 197, in from_file\n    return self.from_notebook_node(nbformat.read(file_stream, as_version=4), resources=resources, **kw)\n  File \"/Users/Giwrgakis/opt/anaconda3/lib/python3.7/site-packages/nbconvert/exporters/html.py\", line 95, in from_notebook_node\n    return super(HTMLExporter, self).from_notebook_node(nb, resources, **kw)\n  File \"/Users/Giwrgakis/opt/anaconda3/lib/python3.7/site-packages/nbconvert/exporters/templateexporter.py\", line 307, in from_notebook_node\n    nb_copy, resources = super(TemplateExporter, self).from_notebook_node(nb, resources, **kw)\n  File \"/Users/Giwrgakis/opt/anaconda3/lib/python3.7/site-packages/nbconvert/exporters/exporter.py\", line 139, in from_notebook_node\n    nb_copy, resources = self._preprocess(nb_copy, resources)\n  File \"/Users/Giwrgakis/opt/anaconda3/lib/python3.7/site-packages/nbconvert/exporters/exporter.py\", line 318, in _preprocess\n    nbformat.validate(nbc, relax_add_props=True)\n  File \"/Users/Giwrgakis/opt/anaconda3/lib/python3.7/site-packages/nbformat/validator.py\", line 277, in validate\n    raise error\nnbformat.validator.NotebookValidationError: 'name' is a required property\n\nFailed validating 'required' in stream:\n\nOn instance['cells'][20]['outputs'][0]:\n{'execution_count': 16,\n 'metadata': {},\n 'output_type': 'stream',\n 'text': '\\x1b[0;31mSignature:\\x1b[0m '\n         '\\x1b[0mmath\\x1b[0m\\x1b[0;34m.\\x1b[0m\\x1b[0mcos\\x1b[0m\\x1b[0;34m...'}\n\nIf you suspect this is an IPython 7.13.0 bug, please report it at:\n    https://github.com/ipython/ipython/issues\nor send an email to the mailing list at ipython-dev@python.org\n\nYou can print a more detailed traceback right now with \"%tb\", or use \"%debug\"\nto interactively debug it.\n\nExtra-detailed tracebacks for bug-reporting purposes can be enabled via:\n    c.Application.verbose_crash=True\n\n"
    }
   ],
   "source": [
    "!ipython nbconvert --to html ch01-code-listing.ipynb"
   ]
  },
  {
   "cell_type": "code",
   "execution_count": 49,
   "metadata": {},
   "outputs": [
    {
     "output_type": "stream",
     "name": "stdout",
     "text": "[TerminalIPythonApp] WARNING | Subcommand `ipython nbconvert` is deprecated and will be removed in future versions.\n[TerminalIPythonApp] WARNING | You likely want to use `jupyter nbconvert` in the future\n[NbConvertApp] Converting notebook ch01-code-listing.ipynb to pdf\n[NbConvertApp] ERROR | Notebook JSON is invalid: Additional properties are not allowed ('execution_count', 'metadata' were unexpected)\n\nFailed validating 'additionalProperties' in stream:\n\nOn instance['cells'][20]['outputs'][0]:\n{'execution_count': 16,\n 'metadata': {},\n 'output_type': 'stream',\n 'text': '\\x1b[0;31mSignature:\\x1b[0m '\n         '\\x1b[0mmath\\x1b[0m\\x1b[0;34m.\\x1b[0m\\x1b[0mcos\\x1b[0m\\x1b[0;34m...'}\n--- Logging error ---\nTraceback (most recent call last):\n  File \"/Users/Giwrgakis/opt/anaconda3/lib/python3.7/site-packages/nbconvert/exporters/exporter.py\", line 318, in _preprocess\n    nbformat.validate(nbc, relax_add_props=True)\n  File \"/Users/Giwrgakis/opt/anaconda3/lib/python3.7/site-packages/nbformat/validator.py\", line 277, in validate\n    raise error\nnbformat.validator.NotebookValidationError: 'name' is a required property\n\nFailed validating 'required' in stream:\n\nOn instance['cells'][20]['outputs'][0]:\n{'execution_count': 16,\n 'metadata': {},\n 'output_type': 'stream',\n 'text': '\\x1b[0;31mSignature:\\x1b[0m '\n         '\\x1b[0mmath\\x1b[0m\\x1b[0;34m.\\x1b[0m\\x1b[0mcos\\x1b[0m\\x1b[0;34m...'}\n\nDuring handling of the above exception, another exception occurred:\n\nTraceback (most recent call last):\n  File \"/Users/Giwrgakis/opt/anaconda3/lib/python3.7/logging/__init__.py\", line 1025, in emit\n    msg = self.format(record)\n  File \"/Users/Giwrgakis/opt/anaconda3/lib/python3.7/logging/__init__.py\", line 869, in format\n    return fmt.format(record)\n  File \"/Users/Giwrgakis/opt/anaconda3/lib/python3.7/site-packages/traitlets/config/application.py\", line 117, in format\n    return super(LevelFormatter, self).format(record)\n  File \"/Users/Giwrgakis/opt/anaconda3/lib/python3.7/logging/__init__.py\", line 608, in format\n    record.message = record.getMessage()\n  File \"/Users/Giwrgakis/opt/anaconda3/lib/python3.7/logging/__init__.py\", line 369, in getMessage\n    msg = msg % self.args\nTypeError: not all arguments converted during string formatting\nCall stack:\n  File \"/Users/Giwrgakis/opt/anaconda3/bin/ipython\", line 11, in <module>\n    sys.exit(start_ipython())\n  File \"/Users/Giwrgakis/opt/anaconda3/lib/python3.7/site-packages/IPython/__init__.py\", line 126, in start_ipython\n    return launch_new_instance(argv=argv, **kwargs)\n  File \"/Users/Giwrgakis/opt/anaconda3/lib/python3.7/site-packages/traitlets/config/application.py\", line 664, in launch_instance\n    app.start()\n  File \"/Users/Giwrgakis/opt/anaconda3/lib/python3.7/site-packages/IPython/terminal/ipapp.py\", line 352, in start\n    return self.subapp.start()\n  File \"/Users/Giwrgakis/opt/anaconda3/lib/python3.7/site-packages/nbconvert/nbconvertapp.py\", line 340, in start\n    self.convert_notebooks()\n  File \"/Users/Giwrgakis/opt/anaconda3/lib/python3.7/site-packages/nbconvert/nbconvertapp.py\", line 510, in convert_notebooks\n    self.convert_single_notebook(notebook_filename)\n  File \"/Users/Giwrgakis/opt/anaconda3/lib/python3.7/site-packages/nbconvert/nbconvertapp.py\", line 481, in convert_single_notebook\n    output, resources = self.export_single_notebook(notebook_filename, resources, input_buffer=input_buffer)\n  File \"/Users/Giwrgakis/opt/anaconda3/lib/python3.7/site-packages/nbconvert/nbconvertapp.py\", line 410, in export_single_notebook\n    output, resources = self.exporter.from_filename(notebook_filename, resources=resources)\n  File \"/Users/Giwrgakis/opt/anaconda3/lib/python3.7/site-packages/nbconvert/exporters/exporter.py\", line 179, in from_filename\n    return self.from_file(f, resources=resources, **kw)\n  File \"/Users/Giwrgakis/opt/anaconda3/lib/python3.7/site-packages/nbconvert/exporters/exporter.py\", line 197, in from_file\n    return self.from_notebook_node(nbformat.read(file_stream, as_version=4), resources=resources, **kw)\n  File \"/Users/Giwrgakis/opt/anaconda3/lib/python3.7/site-packages/nbconvert/exporters/pdf.py\", line 171, in from_notebook_node\n    nb, resources=resources, **kw\n  File \"/Users/Giwrgakis/opt/anaconda3/lib/python3.7/site-packages/nbconvert/exporters/latex.py\", line 88, in from_notebook_node\n    return super(LatexExporter, self).from_notebook_node(nb, resources, **kw)\n  File \"/Users/Giwrgakis/opt/anaconda3/lib/python3.7/site-packages/nbconvert/exporters/templateexporter.py\", line 307, in from_notebook_node\n    nb_copy, resources = super(TemplateExporter, self).from_notebook_node(nb, resources, **kw)\n  File \"/Users/Giwrgakis/opt/anaconda3/lib/python3.7/site-packages/nbconvert/exporters/exporter.py\", line 139, in from_notebook_node\n    nb_copy, resources = self._preprocess(nb_copy, resources)\n  File \"/Users/Giwrgakis/opt/anaconda3/lib/python3.7/site-packages/nbconvert/exporters/exporter.py\", line 321, in _preprocess\n    preprocessor)\nMessage: 'Notebook is invalid after preprocessor {}'\nArguments: (<nbconvert.preprocessors.tagremove.TagRemovePreprocessor object at 0x7fede83759d0>,)\nTraceback (most recent call last):\n  File \"/Users/Giwrgakis/opt/anaconda3/bin/ipython\", line 11, in <module>\n    sys.exit(start_ipython())\n  File \"/Users/Giwrgakis/opt/anaconda3/lib/python3.7/site-packages/IPython/__init__.py\", line 126, in start_ipython\n    return launch_new_instance(argv=argv, **kwargs)\n  File \"/Users/Giwrgakis/opt/anaconda3/lib/python3.7/site-packages/traitlets/config/application.py\", line 664, in launch_instance\n    app.start()\n  File \"/Users/Giwrgakis/opt/anaconda3/lib/python3.7/site-packages/IPython/terminal/ipapp.py\", line 352, in start\n    return self.subapp.start()\n  File \"/Users/Giwrgakis/opt/anaconda3/lib/python3.7/site-packages/nbconvert/nbconvertapp.py\", line 340, in start\n    self.convert_notebooks()\n  File \"/Users/Giwrgakis/opt/anaconda3/lib/python3.7/site-packages/nbconvert/nbconvertapp.py\", line 510, in convert_notebooks\n    self.convert_single_notebook(notebook_filename)\n  File \"/Users/Giwrgakis/opt/anaconda3/lib/python3.7/site-packages/nbconvert/nbconvertapp.py\", line 481, in convert_single_notebook\n    output, resources = self.export_single_notebook(notebook_filename, resources, input_buffer=input_buffer)\n  File \"/Users/Giwrgakis/opt/anaconda3/lib/python3.7/site-packages/nbconvert/nbconvertapp.py\", line 410, in export_single_notebook\n    output, resources = self.exporter.from_filename(notebook_filename, resources=resources)\n  File \"/Users/Giwrgakis/opt/anaconda3/lib/python3.7/site-packages/nbconvert/exporters/exporter.py\", line 179, in from_filename\n    return self.from_file(f, resources=resources, **kw)\n  File \"/Users/Giwrgakis/opt/anaconda3/lib/python3.7/site-packages/nbconvert/exporters/exporter.py\", line 197, in from_file\n    return self.from_notebook_node(nbformat.read(file_stream, as_version=4), resources=resources, **kw)\n  File \"/Users/Giwrgakis/opt/anaconda3/lib/python3.7/site-packages/nbconvert/exporters/pdf.py\", line 171, in from_notebook_node\n    nb, resources=resources, **kw\n  File \"/Users/Giwrgakis/opt/anaconda3/lib/python3.7/site-packages/nbconvert/exporters/latex.py\", line 88, in from_notebook_node\n    return super(LatexExporter, self).from_notebook_node(nb, resources, **kw)\n  File \"/Users/Giwrgakis/opt/anaconda3/lib/python3.7/site-packages/nbconvert/exporters/templateexporter.py\", line 307, in from_notebook_node\n    nb_copy, resources = super(TemplateExporter, self).from_notebook_node(nb, resources, **kw)\n  File \"/Users/Giwrgakis/opt/anaconda3/lib/python3.7/site-packages/nbconvert/exporters/exporter.py\", line 139, in from_notebook_node\n    nb_copy, resources = self._preprocess(nb_copy, resources)\n  File \"/Users/Giwrgakis/opt/anaconda3/lib/python3.7/site-packages/nbconvert/exporters/exporter.py\", line 318, in _preprocess\n    nbformat.validate(nbc, relax_add_props=True)\n  File \"/Users/Giwrgakis/opt/anaconda3/lib/python3.7/site-packages/nbformat/validator.py\", line 277, in validate\n    raise error\nnbformat.validator.NotebookValidationError: 'name' is a required property\n\nFailed validating 'required' in stream:\n\nOn instance['cells'][20]['outputs'][0]:\n{'execution_count': 16,\n 'metadata': {},\n 'output_type': 'stream',\n 'text': '\\x1b[0;31mSignature:\\x1b[0m '\n         '\\x1b[0mmath\\x1b[0m\\x1b[0;34m.\\x1b[0m\\x1b[0mcos\\x1b[0m\\x1b[0;34m...'}\n\nIf you suspect this is an IPython 7.13.0 bug, please report it at:\n    https://github.com/ipython/ipython/issues\nor send an email to the mailing list at ipython-dev@python.org\n\nYou can print a more detailed traceback right now with \"%tb\", or use \"%debug\"\nto interactively debug it.\n\nExtra-detailed tracebacks for bug-reporting purposes can be enabled via:\n    c.Application.verbose_crash=True\n\n"
    }
   ],
   "source": [
    "!ipython nbconvert --to pdf ch01-code-listing.ipynb"
   ]
  },
  {
   "cell_type": "code",
   "execution_count": 50,
   "metadata": {},
   "outputs": [
    {
     "output_type": "stream",
     "name": "stdout",
     "text": "Overwriting custom_template.tplx\n"
    }
   ],
   "source": [
    "%%writefile custom_template.tplx\n",
    "((*- extends 'article.tplx' -*))\n",
    "\n",
    "((* block title *)) \\title{Document title} ((* endblock title *))\n",
    "((* block author *)) \\author{Author's Name} ((* endblock author *))"
   ]
  },
  {
   "cell_type": "code",
   "execution_count": 51,
   "metadata": {},
   "outputs": [
    {
     "output_type": "stream",
     "name": "stdout",
     "text": "[TerminalIPythonApp] WARNING | Subcommand `ipython nbconvert` is deprecated and will be removed in future versions.\n[TerminalIPythonApp] WARNING | You likely want to use `jupyter nbconvert` in the future\n[NbConvertApp] Converting notebook ch01-code-listing.ipynb to pdf\n[NbConvertApp] ERROR | Notebook JSON is invalid: Additional properties are not allowed ('execution_count', 'metadata' were unexpected)\n\nFailed validating 'additionalProperties' in stream:\n\nOn instance['cells'][20]['outputs'][0]:\n{'execution_count': 16,\n 'metadata': {},\n 'output_type': 'stream',\n 'text': '\\x1b[0;31mSignature:\\x1b[0m '\n         '\\x1b[0mmath\\x1b[0m\\x1b[0;34m.\\x1b[0m\\x1b[0mcos\\x1b[0m\\x1b[0;34m...'}\n--- Logging error ---\nTraceback (most recent call last):\n  File \"/Users/Giwrgakis/opt/anaconda3/lib/python3.7/site-packages/nbconvert/exporters/exporter.py\", line 318, in _preprocess\n    nbformat.validate(nbc, relax_add_props=True)\n  File \"/Users/Giwrgakis/opt/anaconda3/lib/python3.7/site-packages/nbformat/validator.py\", line 277, in validate\n    raise error\nnbformat.validator.NotebookValidationError: 'name' is a required property\n\nFailed validating 'required' in stream:\n\nOn instance['cells'][20]['outputs'][0]:\n{'execution_count': 16,\n 'metadata': {},\n 'output_type': 'stream',\n 'text': '\\x1b[0;31mSignature:\\x1b[0m '\n         '\\x1b[0mmath\\x1b[0m\\x1b[0;34m.\\x1b[0m\\x1b[0mcos\\x1b[0m\\x1b[0;34m...'}\n\nDuring handling of the above exception, another exception occurred:\n\nTraceback (most recent call last):\n  File \"/Users/Giwrgakis/opt/anaconda3/lib/python3.7/logging/__init__.py\", line 1025, in emit\n    msg = self.format(record)\n  File \"/Users/Giwrgakis/opt/anaconda3/lib/python3.7/logging/__init__.py\", line 869, in format\n    return fmt.format(record)\n  File \"/Users/Giwrgakis/opt/anaconda3/lib/python3.7/site-packages/traitlets/config/application.py\", line 117, in format\n    return super(LevelFormatter, self).format(record)\n  File \"/Users/Giwrgakis/opt/anaconda3/lib/python3.7/logging/__init__.py\", line 608, in format\n    record.message = record.getMessage()\n  File \"/Users/Giwrgakis/opt/anaconda3/lib/python3.7/logging/__init__.py\", line 369, in getMessage\n    msg = msg % self.args\nTypeError: not all arguments converted during string formatting\nCall stack:\n  File \"/Users/Giwrgakis/opt/anaconda3/bin/ipython\", line 11, in <module>\n    sys.exit(start_ipython())\n  File \"/Users/Giwrgakis/opt/anaconda3/lib/python3.7/site-packages/IPython/__init__.py\", line 126, in start_ipython\n    return launch_new_instance(argv=argv, **kwargs)\n  File \"/Users/Giwrgakis/opt/anaconda3/lib/python3.7/site-packages/traitlets/config/application.py\", line 664, in launch_instance\n    app.start()\n  File \"/Users/Giwrgakis/opt/anaconda3/lib/python3.7/site-packages/IPython/terminal/ipapp.py\", line 352, in start\n    return self.subapp.start()\n  File \"/Users/Giwrgakis/opt/anaconda3/lib/python3.7/site-packages/nbconvert/nbconvertapp.py\", line 340, in start\n    self.convert_notebooks()\n  File \"/Users/Giwrgakis/opt/anaconda3/lib/python3.7/site-packages/nbconvert/nbconvertapp.py\", line 510, in convert_notebooks\n    self.convert_single_notebook(notebook_filename)\n  File \"/Users/Giwrgakis/opt/anaconda3/lib/python3.7/site-packages/nbconvert/nbconvertapp.py\", line 481, in convert_single_notebook\n    output, resources = self.export_single_notebook(notebook_filename, resources, input_buffer=input_buffer)\n  File \"/Users/Giwrgakis/opt/anaconda3/lib/python3.7/site-packages/nbconvert/nbconvertapp.py\", line 410, in export_single_notebook\n    output, resources = self.exporter.from_filename(notebook_filename, resources=resources)\n  File \"/Users/Giwrgakis/opt/anaconda3/lib/python3.7/site-packages/nbconvert/exporters/exporter.py\", line 179, in from_filename\n    return self.from_file(f, resources=resources, **kw)\n  File \"/Users/Giwrgakis/opt/anaconda3/lib/python3.7/site-packages/nbconvert/exporters/exporter.py\", line 197, in from_file\n    return self.from_notebook_node(nbformat.read(file_stream, as_version=4), resources=resources, **kw)\n  File \"/Users/Giwrgakis/opt/anaconda3/lib/python3.7/site-packages/nbconvert/exporters/pdf.py\", line 171, in from_notebook_node\n    nb, resources=resources, **kw\n  File \"/Users/Giwrgakis/opt/anaconda3/lib/python3.7/site-packages/nbconvert/exporters/latex.py\", line 88, in from_notebook_node\n    return super(LatexExporter, self).from_notebook_node(nb, resources, **kw)\n  File \"/Users/Giwrgakis/opt/anaconda3/lib/python3.7/site-packages/nbconvert/exporters/templateexporter.py\", line 307, in from_notebook_node\n    nb_copy, resources = super(TemplateExporter, self).from_notebook_node(nb, resources, **kw)\n  File \"/Users/Giwrgakis/opt/anaconda3/lib/python3.7/site-packages/nbconvert/exporters/exporter.py\", line 139, in from_notebook_node\n    nb_copy, resources = self._preprocess(nb_copy, resources)\n  File \"/Users/Giwrgakis/opt/anaconda3/lib/python3.7/site-packages/nbconvert/exporters/exporter.py\", line 321, in _preprocess\n    preprocessor)\nMessage: 'Notebook is invalid after preprocessor {}'\nArguments: (<nbconvert.preprocessors.tagremove.TagRemovePreprocessor object at 0x7f89e8540b10>,)\nTraceback (most recent call last):\n  File \"/Users/Giwrgakis/opt/anaconda3/bin/ipython\", line 11, in <module>\n    sys.exit(start_ipython())\n  File \"/Users/Giwrgakis/opt/anaconda3/lib/python3.7/site-packages/IPython/__init__.py\", line 126, in start_ipython\n    return launch_new_instance(argv=argv, **kwargs)\n  File \"/Users/Giwrgakis/opt/anaconda3/lib/python3.7/site-packages/traitlets/config/application.py\", line 664, in launch_instance\n    app.start()\n  File \"/Users/Giwrgakis/opt/anaconda3/lib/python3.7/site-packages/IPython/terminal/ipapp.py\", line 352, in start\n    return self.subapp.start()\n  File \"/Users/Giwrgakis/opt/anaconda3/lib/python3.7/site-packages/nbconvert/nbconvertapp.py\", line 340, in start\n    self.convert_notebooks()\n  File \"/Users/Giwrgakis/opt/anaconda3/lib/python3.7/site-packages/nbconvert/nbconvertapp.py\", line 510, in convert_notebooks\n    self.convert_single_notebook(notebook_filename)\n  File \"/Users/Giwrgakis/opt/anaconda3/lib/python3.7/site-packages/nbconvert/nbconvertapp.py\", line 481, in convert_single_notebook\n    output, resources = self.export_single_notebook(notebook_filename, resources, input_buffer=input_buffer)\n  File \"/Users/Giwrgakis/opt/anaconda3/lib/python3.7/site-packages/nbconvert/nbconvertapp.py\", line 410, in export_single_notebook\n    output, resources = self.exporter.from_filename(notebook_filename, resources=resources)\n  File \"/Users/Giwrgakis/opt/anaconda3/lib/python3.7/site-packages/nbconvert/exporters/exporter.py\", line 179, in from_filename\n    return self.from_file(f, resources=resources, **kw)\n  File \"/Users/Giwrgakis/opt/anaconda3/lib/python3.7/site-packages/nbconvert/exporters/exporter.py\", line 197, in from_file\n    return self.from_notebook_node(nbformat.read(file_stream, as_version=4), resources=resources, **kw)\n  File \"/Users/Giwrgakis/opt/anaconda3/lib/python3.7/site-packages/nbconvert/exporters/pdf.py\", line 171, in from_notebook_node\n    nb, resources=resources, **kw\n  File \"/Users/Giwrgakis/opt/anaconda3/lib/python3.7/site-packages/nbconvert/exporters/latex.py\", line 88, in from_notebook_node\n    return super(LatexExporter, self).from_notebook_node(nb, resources, **kw)\n  File \"/Users/Giwrgakis/opt/anaconda3/lib/python3.7/site-packages/nbconvert/exporters/templateexporter.py\", line 307, in from_notebook_node\n    nb_copy, resources = super(TemplateExporter, self).from_notebook_node(nb, resources, **kw)\n  File \"/Users/Giwrgakis/opt/anaconda3/lib/python3.7/site-packages/nbconvert/exporters/exporter.py\", line 139, in from_notebook_node\n    nb_copy, resources = self._preprocess(nb_copy, resources)\n  File \"/Users/Giwrgakis/opt/anaconda3/lib/python3.7/site-packages/nbconvert/exporters/exporter.py\", line 318, in _preprocess\n    nbformat.validate(nbc, relax_add_props=True)\n  File \"/Users/Giwrgakis/opt/anaconda3/lib/python3.7/site-packages/nbformat/validator.py\", line 277, in validate\n    raise error\nnbformat.validator.NotebookValidationError: 'name' is a required property\n\nFailed validating 'required' in stream:\n\nOn instance['cells'][20]['outputs'][0]:\n{'execution_count': 16,\n 'metadata': {},\n 'output_type': 'stream',\n 'text': '\\x1b[0;31mSignature:\\x1b[0m '\n         '\\x1b[0mmath\\x1b[0m\\x1b[0;34m.\\x1b[0m\\x1b[0mcos\\x1b[0m\\x1b[0;34m...'}\n\nIf you suspect this is an IPython 7.13.0 bug, please report it at:\n    https://github.com/ipython/ipython/issues\nor send an email to the mailing list at ipython-dev@python.org\n\nYou can print a more detailed traceback right now with \"%tb\", or use \"%debug\"\nto interactively debug it.\n\nExtra-detailed tracebacks for bug-reporting purposes can be enabled via:\n    c.Application.verbose_crash=True\n\n"
    }
   ],
   "source": [
    "!ipython nbconvert ch01-code-listing.ipynb --to pdf --template custom_template.tplx"
   ]
  },
  {
   "cell_type": "code",
   "execution_count": 52,
   "metadata": {},
   "outputs": [
    {
     "output_type": "stream",
     "name": "stdout",
     "text": "[TerminalIPythonApp] WARNING | Subcommand `ipython nbconvert` is deprecated and will be removed in future versions.\n[TerminalIPythonApp] WARNING | You likely want to use `jupyter nbconvert` in the future\n[NbConvertApp] Converting notebook ch01-code-listing.ipynb to python\n[NbConvertApp] ERROR | Notebook JSON is invalid: Additional properties are not allowed ('execution_count', 'metadata' were unexpected)\n\nFailed validating 'additionalProperties' in stream:\n\nOn instance['cells'][20]['outputs'][0]:\n{'execution_count': 16,\n 'metadata': {},\n 'output_type': 'stream',\n 'text': '\\x1b[0;31mSignature:\\x1b[0m '\n         '\\x1b[0mmath\\x1b[0m\\x1b[0;34m.\\x1b[0m\\x1b[0mcos\\x1b[0m\\x1b[0;34m...'}\n--- Logging error ---\nTraceback (most recent call last):\n  File \"/Users/Giwrgakis/opt/anaconda3/lib/python3.7/site-packages/nbconvert/exporters/exporter.py\", line 318, in _preprocess\n    nbformat.validate(nbc, relax_add_props=True)\n  File \"/Users/Giwrgakis/opt/anaconda3/lib/python3.7/site-packages/nbformat/validator.py\", line 277, in validate\n    raise error\nnbformat.validator.NotebookValidationError: 'name' is a required property\n\nFailed validating 'required' in stream:\n\nOn instance['cells'][20]['outputs'][0]:\n{'execution_count': 16,\n 'metadata': {},\n 'output_type': 'stream',\n 'text': '\\x1b[0;31mSignature:\\x1b[0m '\n         '\\x1b[0mmath\\x1b[0m\\x1b[0;34m.\\x1b[0m\\x1b[0mcos\\x1b[0m\\x1b[0;34m...'}\n\nDuring handling of the above exception, another exception occurred:\n\nTraceback (most recent call last):\n  File \"/Users/Giwrgakis/opt/anaconda3/lib/python3.7/logging/__init__.py\", line 1025, in emit\n    msg = self.format(record)\n  File \"/Users/Giwrgakis/opt/anaconda3/lib/python3.7/logging/__init__.py\", line 869, in format\n    return fmt.format(record)\n  File \"/Users/Giwrgakis/opt/anaconda3/lib/python3.7/site-packages/traitlets/config/application.py\", line 117, in format\n    return super(LevelFormatter, self).format(record)\n  File \"/Users/Giwrgakis/opt/anaconda3/lib/python3.7/logging/__init__.py\", line 608, in format\n    record.message = record.getMessage()\n  File \"/Users/Giwrgakis/opt/anaconda3/lib/python3.7/logging/__init__.py\", line 369, in getMessage\n    msg = msg % self.args\nTypeError: not all arguments converted during string formatting\nCall stack:\n  File \"/Users/Giwrgakis/opt/anaconda3/bin/ipython\", line 11, in <module>\n    sys.exit(start_ipython())\n  File \"/Users/Giwrgakis/opt/anaconda3/lib/python3.7/site-packages/IPython/__init__.py\", line 126, in start_ipython\n    return launch_new_instance(argv=argv, **kwargs)\n  File \"/Users/Giwrgakis/opt/anaconda3/lib/python3.7/site-packages/traitlets/config/application.py\", line 664, in launch_instance\n    app.start()\n  File \"/Users/Giwrgakis/opt/anaconda3/lib/python3.7/site-packages/IPython/terminal/ipapp.py\", line 352, in start\n    return self.subapp.start()\n  File \"/Users/Giwrgakis/opt/anaconda3/lib/python3.7/site-packages/nbconvert/nbconvertapp.py\", line 340, in start\n    self.convert_notebooks()\n  File \"/Users/Giwrgakis/opt/anaconda3/lib/python3.7/site-packages/nbconvert/nbconvertapp.py\", line 510, in convert_notebooks\n    self.convert_single_notebook(notebook_filename)\n  File \"/Users/Giwrgakis/opt/anaconda3/lib/python3.7/site-packages/nbconvert/nbconvertapp.py\", line 481, in convert_single_notebook\n    output, resources = self.export_single_notebook(notebook_filename, resources, input_buffer=input_buffer)\n  File \"/Users/Giwrgakis/opt/anaconda3/lib/python3.7/site-packages/nbconvert/nbconvertapp.py\", line 410, in export_single_notebook\n    output, resources = self.exporter.from_filename(notebook_filename, resources=resources)\n  File \"/Users/Giwrgakis/opt/anaconda3/lib/python3.7/site-packages/nbconvert/exporters/exporter.py\", line 179, in from_filename\n    return self.from_file(f, resources=resources, **kw)\n  File \"/Users/Giwrgakis/opt/anaconda3/lib/python3.7/site-packages/nbconvert/exporters/exporter.py\", line 197, in from_file\n    return self.from_notebook_node(nbformat.read(file_stream, as_version=4), resources=resources, **kw)\n  File \"/Users/Giwrgakis/opt/anaconda3/lib/python3.7/site-packages/nbconvert/exporters/templateexporter.py\", line 307, in from_notebook_node\n    nb_copy, resources = super(TemplateExporter, self).from_notebook_node(nb, resources, **kw)\n  File \"/Users/Giwrgakis/opt/anaconda3/lib/python3.7/site-packages/nbconvert/exporters/exporter.py\", line 139, in from_notebook_node\n    nb_copy, resources = self._preprocess(nb_copy, resources)\n  File \"/Users/Giwrgakis/opt/anaconda3/lib/python3.7/site-packages/nbconvert/exporters/exporter.py\", line 321, in _preprocess\n    preprocessor)\nMessage: 'Notebook is invalid after preprocessor {}'\nArguments: (<nbconvert.preprocessors.tagremove.TagRemovePreprocessor object at 0x7fda18163e90>,)\nTraceback (most recent call last):\n  File \"/Users/Giwrgakis/opt/anaconda3/bin/ipython\", line 11, in <module>\n    sys.exit(start_ipython())\n  File \"/Users/Giwrgakis/opt/anaconda3/lib/python3.7/site-packages/IPython/__init__.py\", line 126, in start_ipython\n    return launch_new_instance(argv=argv, **kwargs)\n  File \"/Users/Giwrgakis/opt/anaconda3/lib/python3.7/site-packages/traitlets/config/application.py\", line 664, in launch_instance\n    app.start()\n  File \"/Users/Giwrgakis/opt/anaconda3/lib/python3.7/site-packages/IPython/terminal/ipapp.py\", line 352, in start\n    return self.subapp.start()\n  File \"/Users/Giwrgakis/opt/anaconda3/lib/python3.7/site-packages/nbconvert/nbconvertapp.py\", line 340, in start\n    self.convert_notebooks()\n  File \"/Users/Giwrgakis/opt/anaconda3/lib/python3.7/site-packages/nbconvert/nbconvertapp.py\", line 510, in convert_notebooks\n    self.convert_single_notebook(notebook_filename)\n  File \"/Users/Giwrgakis/opt/anaconda3/lib/python3.7/site-packages/nbconvert/nbconvertapp.py\", line 481, in convert_single_notebook\n    output, resources = self.export_single_notebook(notebook_filename, resources, input_buffer=input_buffer)\n  File \"/Users/Giwrgakis/opt/anaconda3/lib/python3.7/site-packages/nbconvert/nbconvertapp.py\", line 410, in export_single_notebook\n    output, resources = self.exporter.from_filename(notebook_filename, resources=resources)\n  File \"/Users/Giwrgakis/opt/anaconda3/lib/python3.7/site-packages/nbconvert/exporters/exporter.py\", line 179, in from_filename\n    return self.from_file(f, resources=resources, **kw)\n  File \"/Users/Giwrgakis/opt/anaconda3/lib/python3.7/site-packages/nbconvert/exporters/exporter.py\", line 197, in from_file\n    return self.from_notebook_node(nbformat.read(file_stream, as_version=4), resources=resources, **kw)\n  File \"/Users/Giwrgakis/opt/anaconda3/lib/python3.7/site-packages/nbconvert/exporters/templateexporter.py\", line 307, in from_notebook_node\n    nb_copy, resources = super(TemplateExporter, self).from_notebook_node(nb, resources, **kw)\n  File \"/Users/Giwrgakis/opt/anaconda3/lib/python3.7/site-packages/nbconvert/exporters/exporter.py\", line 139, in from_notebook_node\n    nb_copy, resources = self._preprocess(nb_copy, resources)\n  File \"/Users/Giwrgakis/opt/anaconda3/lib/python3.7/site-packages/nbconvert/exporters/exporter.py\", line 318, in _preprocess\n    nbformat.validate(nbc, relax_add_props=True)\n  File \"/Users/Giwrgakis/opt/anaconda3/lib/python3.7/site-packages/nbformat/validator.py\", line 277, in validate\n    raise error\nnbformat.validator.NotebookValidationError: 'name' is a required property\n\nFailed validating 'required' in stream:\n\nOn instance['cells'][20]['outputs'][0]:\n{'execution_count': 16,\n 'metadata': {},\n 'output_type': 'stream',\n 'text': '\\x1b[0;31mSignature:\\x1b[0m '\n         '\\x1b[0mmath\\x1b[0m\\x1b[0;34m.\\x1b[0m\\x1b[0mcos\\x1b[0m\\x1b[0;34m...'}\n\nIf you suspect this is an IPython 7.13.0 bug, please report it at:\n    https://github.com/ipython/ipython/issues\nor send an email to the mailing list at ipython-dev@python.org\n\nYou can print a more detailed traceback right now with \"%tb\", or use \"%debug\"\nto interactively debug it.\n\nExtra-detailed tracebacks for bug-reporting purposes can be enabled via:\n    c.Application.verbose_crash=True\n\n"
    }
   ],
   "source": [
    "!ipython nbconvert ch01-code-listing.ipynb --to python"
   ]
  },
  {
   "cell_type": "markdown",
   "metadata": {},
   "source": [
    "# Versions"
   ]
  },
  {
   "cell_type": "code",
   "execution_count": 53,
   "metadata": {},
   "outputs": [
    {
     "output_type": "execute_result",
     "data": {
      "text/plain": "Software versions\nPython 3.7.6 64bit [Clang 4.0.1 (tags/RELEASE_401/final)]\nIPython 7.13.0\nOS Darwin 19.4.0 x86_64 i386 64bit\nnumpy 1.18.2\nSun Apr 05 19:49:57 2020 EEST",
      "text/html": "<table><tr><th>Software</th><th>Version</th></tr><tr><td>Python</td><td>3.7.6 64bit [Clang 4.0.1 (tags/RELEASE_401/final)]</td></tr><tr><td>IPython</td><td>7.13.0</td></tr><tr><td>OS</td><td>Darwin 19.4.0 x86_64 i386 64bit</td></tr><tr><td>numpy</td><td>1.18.2</td></tr><tr><td colspan='2'>Sun Apr 05 19:49:57 2020 EEST</td></tr></table>",
      "text/latex": "\\begin{tabular}{|l|l|}\\hline\n{\\bf Software} & {\\bf Version} \\\\ \\hline\\hline\nPython & 3.7.6 64bit [Clang 4.0.1 (tags/RELEASE\\_401/final)] \\\\ \\hline\nIPython & 7.13.0 \\\\ \\hline\nOS & Darwin 19.4.0 x86\\_64 i386 64bit \\\\ \\hline\nnumpy & 1.18.2 \\\\ \\hline\n\\hline \\multicolumn{2}{|l|}{Sun Apr 05 19:49:57 2020 EEST} \\\\ \\hline\n\\end{tabular}\n",
      "application/json": {
       "Software versions": [
        {
         "module": "Python",
         "version": "3.7.6 64bit [Clang 4.0.1 (tags/RELEASE_401/final)]"
        },
        {
         "module": "IPython",
         "version": "7.13.0"
        },
        {
         "module": "OS",
         "version": "Darwin 19.4.0 x86_64 i386 64bit"
        },
        {
         "module": "numpy",
         "version": "1.18.2"
        }
       ]
      }
     },
     "metadata": {},
     "execution_count": 53
    }
   ],
   "source": [
    "%reload_ext version_information\n",
    "%version_information numpy"
   ]
  },
  {
   "cell_type": "code",
   "execution_count": null,
   "metadata": {},
   "outputs": [],
   "source": []
  }
 ],
 "metadata": {
  "kernelspec": {
   "display_name": "Python 3.7.6 64-bit ('base': conda)",
   "language": "python",
   "name": "python37664bitbasecondae035b818ee534a2882ace844fc457a34"
  },
  "language_info": {
   "codemirror_mode": {
    "name": "ipython",
    "version": 3
   },
   "file_extension": ".py",
   "mimetype": "text/x-python",
   "name": "python",
   "nbconvert_exporter": "python",
   "pygments_lexer": "ipython3",
   "version": "3.7.6-final"
  }
 },
 "nbformat": 4,
 "nbformat_minor": 2
}